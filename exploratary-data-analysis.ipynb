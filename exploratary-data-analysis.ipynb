{
 "cells": [
  {
   "cell_type": "markdown",
   "metadata": {},
   "source": [
    "# centiBils: A unit for Investment Performance Management\n",
    "\n",
    "## Abstract\n",
    "\n",
    "Percentage Returns are the de-facto standard for Investment Performance\n",
    "Measurement. Yet they are not very well suited for multi-period performance\n",
    "evaluation. As an illustrative example, does the sequence (-30%, +40%) represent a\n",
    "positive or negative overall return? We review some of the problems with using\n",
    "percentage returns such as the lack of symmetry, lack of additivity and\n",
    "differences between the arithmetic and geometric means. We then introduce a new\n",
    "logarithmic unit modeled on the deciBel, tentatively called a centiBil, which\n",
    "addresses these shortcomings. Finally we conclude by using the centiBil to\n",
    "compare the performance of US Stocks, Bonds and Bills since 1927 and show how\n",
    "their use eases cross-period comparisons.\n",
    "\n",
    "\n",
    "## Agenda\n",
    "\n",
    " 1. Returns vs Logeturns\n",
    "      * Returns are not symmetric\n",
    "      * Returns are not (longitudinally) additive\n",
    "      * Arithmetic vs Geomtric mean\n",
    " 2. Comparing existing logarithmic units\n",
    "      * Neper\n",
    "          * lacks interpretability\n",
    "      * Bels (i.e. deciBels)\n",
    "          * too large for use with investment returns\n",
    " 3. centiBils\n",
    "      * Definition\n",
    "      * Standard Values\n",
    " 4. Applications\n",
    "      * S&P 500 Returns since 1900\n",
    "      * Comparison of ALSI, ALBI and STEFI returns"
   ]
  },
  {
   "cell_type": "code",
   "execution_count": null,
   "metadata": {
    "collapsed": true
   },
   "outputs": [],
   "source": [
    "import numpy as np\n",
    "import pandas as pd\n",
    "import matplotlib.pyplot as plt\n",
    "import statsmodels.api as sm\n",
    "import seaborn as sns\n",
    "%matplotlib inline"
   ]
  },
  {
   "cell_type": "code",
   "execution_count": null,
   "metadata": {
    "collapsed": true
   },
   "outputs": [],
   "source": [
    "def ret2cb(ret):\n",
    "    return 100/np.log(2)*np.log1p(ret)\n",
    "\n",
    "def cb2ret(cb):\n",
    "    return np.expm1(cb/100*np.log(2))"
   ]
  },
  {
   "cell_type": "markdown",
   "metadata": {},
   "source": [
    "## Definition\n",
    "\n",
    "$$ 1 Bil = \\ln_2 2 = \\ln_2 (1+1) = \\ln (1+100\\%) / \\ln 2$$\n",
    "\n",
    "$$ r \\implies 100 \\ln_2(1+r) \\textrm{ centiBils} = \\frac{100}{\\ln 2} \\ln(1+r) \\textrm{ cB} $$"
   ]
  },
  {
   "cell_type": "markdown",
   "metadata": {},
   "source": [
    "## Standard Percentage Returns"
   ]
  },
  {
   "cell_type": "code",
   "execution_count": null,
   "metadata": {
    "collapsed": true
   },
   "outputs": [],
   "source": [
    "vals = np.array([-1, -0.50, -0.25, -0.20, -0.10, -0.01, -0.0001])"
   ]
  },
  {
   "cell_type": "code",
   "execution_count": null,
   "metadata": {
    "collapsed": false
   },
   "outputs": [],
   "source": [
    "std_rets = np.r_[vals, 0, -vals[::-1]]\n",
    "standard_returns = pd.DataFrame({'Percentage Return':std_rets*100, 'centiBils Return':ret2cb(std_rets)})\n",
    "standard_returns"
   ]
  },
  {
   "cell_type": "code",
   "execution_count": null,
   "metadata": {
    "collapsed": false
   },
   "outputs": [],
   "source": [
    "std_cbs = 100*np.r_[vals, 0, -vals[::-1]]\n",
    "standard_centibils = pd.DataFrame({'centiBils Return':std_cbs, 'Percentage Return':cb2ret(std_cbs)*100})\n",
    "standard_centibils"
   ]
  },
  {
   "cell_type": "markdown",
   "metadata": {},
   "source": [
    "## Applications"
   ]
  },
  {
   "cell_type": "code",
   "execution_count": null,
   "metadata": {
    "collapsed": false
   },
   "outputs": [],
   "source": [
    "annual_periods = 261\n",
    "N = 110*annual_periods\n",
    "mu = 10/annual_periods\n",
    "sigma = 20/np.sqrt(annual_periods)"
   ]
  },
  {
   "cell_type": "code",
   "execution_count": null,
   "metadata": {
    "collapsed": false
   },
   "outputs": [],
   "source": [
    "x = mu + sigma*np.random.standard_t(4, N)\n",
    "idx = pd.date_range('1900-01-01', freq='B', periods=N)\n",
    "cb = pd.Series(x, index=idx)"
   ]
  },
  {
   "cell_type": "code",
   "execution_count": null,
   "metadata": {
    "collapsed": false
   },
   "outputs": [],
   "source": [
    "cb.cumsum().plot(title='Cumulative Return in centiBils')"
   ]
  },
  {
   "cell_type": "code",
   "execution_count": null,
   "metadata": {
    "collapsed": false,
    "scrolled": false
   },
   "outputs": [],
   "source": [
    "r = cb2ret(cb)\n",
    "cum_r = 100*np.expm1(np.log1p(r).cumsum())\n",
    "cum_r.plot(title='Cumulative Return in percent')"
   ]
  },
  {
   "cell_type": "code",
   "execution_count": null,
   "metadata": {
    "collapsed": false
   },
   "outputs": [],
   "source": [
    "pd.rolling_sum(cb/10, window=10*annual_periods).plot()"
   ]
  },
  {
   "cell_type": "markdown",
   "metadata": {},
   "source": [
    "## Distributions"
   ]
  },
  {
   "cell_type": "markdown",
   "metadata": {},
   "source": [
    "### Daily"
   ]
  },
  {
   "cell_type": "code",
   "execution_count": null,
   "metadata": {
    "collapsed": false
   },
   "outputs": [],
   "source": [
    "sns.distplot(cb)"
   ]
  },
  {
   "cell_type": "code",
   "execution_count": null,
   "metadata": {
    "collapsed": false
   },
   "outputs": [],
   "source": [
    "sns.distplot(r)"
   ]
  },
  {
   "cell_type": "markdown",
   "metadata": {},
   "source": [
    "### Grouped"
   ]
  },
  {
   "cell_type": "code",
   "execution_count": null,
   "metadata": {
    "collapsed": true
   },
   "outputs": [],
   "source": [
    "#grp_func = lambda idx: np.array(idx.strftime('%Y'), dtype=int)//10*10\n",
    "grp_func = lambda idx: idx.strftime('%Y')\n",
    "bins = None"
   ]
  },
  {
   "cell_type": "code",
   "execution_count": null,
   "metadata": {
    "collapsed": false
   },
   "outputs": [],
   "source": [
    "cb_grouped = cb.groupby(grp_func(cb.index)).sum()\n",
    "sns.distplot(cb_grouped, bins=bins)\n",
    "plt.title('Grouped centiBil returns')"
   ]
  },
  {
   "cell_type": "code",
   "execution_count": null,
   "metadata": {
    "collapsed": false
   },
   "outputs": [],
   "source": [
    "r_grouped = 100*r.groupby(grp_func(r.index)).agg(lambda rets: np.expm1(np.sum(np.log1p(rets))))\n",
    "sns.distplot(r_grouped, bins=bins)\n",
    "plt.title('Grouped percentage returns')"
   ]
  },
  {
   "cell_type": "markdown",
   "metadata": {
    "collapsed": true
   },
   "source": [
    "## S&P 500 Historic Performance (since 1871)"
   ]
  },
  {
   "cell_type": "code",
   "execution_count": null,
   "metadata": {
    "collapsed": false
   },
   "outputs": [],
   "source": [
    "data = pd.read_csv('../s-and-p-500/data/data.csv')\n",
    "data.head()"
   ]
  },
  {
   "cell_type": "code",
   "execution_count": null,
   "metadata": {
    "collapsed": false
   },
   "outputs": [],
   "source": [
    "sp500 = data.iloc[:, :5].set_index('Date')\n",
    "sp500 = sp500/sp500.iloc[0]\n",
    "pd.concat([sp500.head(5), sp500.tail(5)])"
   ]
  },
  {
   "cell_type": "code",
   "execution_count": null,
   "metadata": {
    "collapsed": false
   },
   "outputs": [],
   "source": [
    "sp500.plot(figsize=(16,8))"
   ]
  },
  {
   "cell_type": "code",
   "execution_count": null,
   "metadata": {
    "collapsed": false
   },
   "outputs": [],
   "source": [
    "sp500.plot(figsize=(16,8), logy=True)"
   ]
  },
  {
   "cell_type": "markdown",
   "metadata": {},
   "source": [
    "## US Asset Class Returns (since 1927)"
   ]
  },
  {
   "cell_type": "code",
   "execution_count": null,
   "metadata": {
    "collapsed": false
   },
   "outputs": [],
   "source": [
    "us_data = pd.read_excel('histretSP.xls', sheetname='Returns by year', skiprows=17, skip_footer=10)\n",
    "pd.concat([us_data.head(), us_data.tail()])"
   ]
  },
  {
   "cell_type": "code",
   "execution_count": null,
   "metadata": {
    "collapsed": false
   },
   "outputs": [],
   "source": [
    "us = us_data[['Year', 'Stocks', 'T.Bonds', 'T.Bills']].set_index('Year')\n",
    "us.loc[1927] = 100\n",
    "us.sort_index(inplace=True)\n",
    "us = us/us.iloc[0]\n",
    "pd.concat([us.head(3), us.tail(3)])"
   ]
  },
  {
   "cell_type": "code",
   "execution_count": null,
   "metadata": {
    "collapsed": false
   },
   "outputs": [],
   "source": [
    "us.plot(figsize=(16,8))"
   ]
  },
  {
   "cell_type": "code",
   "execution_count": null,
   "metadata": {
    "collapsed": false
   },
   "outputs": [],
   "source": [
    "us.plot(figsize=(16,8), logy=True)"
   ]
  },
  {
   "cell_type": "code",
   "execution_count": null,
   "metadata": {
    "collapsed": false
   },
   "outputs": [],
   "source": [
    "np.log(us).plot(figsize=(16,8))"
   ]
  },
  {
   "cell_type": "markdown",
   "metadata": {},
   "source": [
    "## python-nvd3"
   ]
  },
  {
   "cell_type": "code",
   "execution_count": null,
   "metadata": {
    "collapsed": false
   },
   "outputs": [],
   "source": [
    "import nvd3\n",
    "#nvd3.ipynb.initialize_javascript(use_remote=True)\n",
    "nvd3.ipynb.initialize_javascript()"
   ]
  },
  {
   "cell_type": "code",
   "execution_count": null,
   "metadata": {
    "collapsed": false
   },
   "outputs": [],
   "source": [
    "from nvd3 import lineChart\n",
    "chart = lineChart(name='NVD3', x_is_date=False, width=1024)\n",
    "for asset_class, series in idx2cb(us).iteritems():\n",
    "    #x = [\"{}-12-31\".format(dt) for dt in series.index]\n",
    "    x = [str(dt) for dt in series.index]\n",
    "    chart.add_serie(name=asset_class, y=list(series.values), x=x)\n",
    "\n",
    "chart.buildcontent()\n",
    "\n",
    "HTML(chart.htmlcontent)"
   ]
  }
 ],
 "metadata": {
  "anaconda-cloud": {},
  "kernelspec": {
   "display_name": "Python [conda env:py35]",
   "language": "python",
   "name": "conda-env-py35-py"
  },
  "language_info": {
   "codemirror_mode": {
    "name": "ipython",
    "version": 3
   },
   "file_extension": ".py",
   "mimetype": "text/x-python",
   "name": "python",
   "nbconvert_exporter": "python",
   "pygments_lexer": "ipython3",
   "version": "3.5.2"
  }
 },
 "nbformat": 4,
 "nbformat_minor": 1
}
