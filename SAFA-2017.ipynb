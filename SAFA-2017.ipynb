{
 "cells": [
  {
   "cell_type": "markdown",
   "metadata": {},
   "source": [
    "# centiBils: A unit for Investment Performance Management\n",
    "\n",
    "## Abstract\n",
    "\n",
    "Percentage Returns are the de-facto standard for Investment Performance\n",
    "Measurement. Yet they are not very well suited for multi-period performance\n",
    "evaluation. As an illustrative example, does the sequence (-30%, +40%) represent a\n",
    "positive or negative overall return? We review some of the problems with using\n",
    "percentage returns such as the lack of symmetry, lack of additivity and\n",
    "differences between the arithmetic and geometric means. We then introduce a new\n",
    "logarithmic unit modeled on the deciBel, tentatively called a centiBil, which\n",
    "addresses these shortcomings. Finally we conclude by using the centiBil to\n",
    "compare the performance of US Stocks, Bonds and Bills since 1927 and show how\n",
    "their use eases cross-period comparisons."
   ]
  },
  {
   "cell_type": "markdown",
   "metadata": {},
   "source": [
    "## Agenda\n",
    "\n",
    " 1. Problems with (Simple-)Returns\n",
    "      * Returns are not symmetric\n",
    "      * Returns are not (longitudinally) additive\n",
    "      * The mean return doesn't represent the growth rate of the investment\n",
    " 2. Problems with existing logarithmic units\n",
    "      * Neper\n",
    "          * lacks interpretability\n",
    "      * Bels (i.e. deciBels)\n",
    "          * too large for use with investment returns\n",
    " 3. centiBils\n",
    "      * Definition\n",
    "      * Standard Values\n",
    " 4. Applications\n",
    "      * S&P 500 Returns since 1900\n",
    "      * Comparison of ALSI, ALBI and STEFI returns"
   ]
  },
  {
   "cell_type": "markdown",
   "metadata": {},
   "source": [
    "## Problems with Returns"
   ]
  },
  {
   "cell_type": "markdown",
   "metadata": {},
   "source": [
    "### Returns are not symmetric\n",
    "\n",
    "  * You are probably aware that if your investment experiences a **-50%** return, you need a **+100%** just to break even again.\n",
    "  * This lack of symmetry makes it difficult to interpret sequences of returns. For example, does the sequence (-30%, +40%) represent an overall positive or negative return?"
   ]
  },
  {
   "cell_type": "markdown",
   "metadata": {},
   "source": [
    "### Returns are not (longitudinally) additive\n",
    "\n",
    "  * The overall return of the sequence (-30%, +40%) is calculated as follows:\n",
    "  \n",
    "    $$ r = (1 - \\frac{30}{100})(1 + \\frac{40}{100}) - 1 = -0.02 = -2\\% $$"
   ]
  },
  {
   "cell_type": "code",
   "execution_count": null,
   "metadata": {
    "collapsed": true
   },
   "outputs": [],
   "source": [
    "import numpy as np\n",
    "import pandas as pd\n",
    "import matplotlib.pyplot as plt\n",
    "import statsmodels.api as sm\n",
    "import seaborn as sns\n",
    "%matplotlib inline"
   ]
  },
  {
   "cell_type": "code",
   "execution_count": null,
   "metadata": {
    "collapsed": false
   },
   "outputs": [],
   "source": [
    "r = (1-30/100)*(1+40/100)-1\n",
    "print(\"r = {r:.2f} = {r:.2%}\".format(r=r))"
   ]
  },
  {
   "cell_type": "markdown",
   "metadata": {},
   "source": [
    "### The mean return doesn't represent the growth rate\n",
    "\n",
    "$$ g = \\mu - \\frac{1}{2}\\sigma^2 $$"
   ]
  },
  {
   "cell_type": "markdown",
   "metadata": {},
   "source": [
    "#### US Asset Class Returns (since 1927)"
   ]
  },
  {
   "cell_type": "code",
   "execution_count": null,
   "metadata": {
    "collapsed": false
   },
   "outputs": [],
   "source": [
    "us_data = pd.read_excel('data/histretSP.xls', sheetname='Returns by year', skiprows=17, skip_footer=10, index_col=0)\n",
    "pd.concat([us_data.head(), us_data.tail()])"
   ]
  },
  {
   "cell_type": "code",
   "execution_count": null,
   "metadata": {
    "collapsed": false
   },
   "outputs": [],
   "source": [
    "from IPython.core.display import display, HTML\n",
    "def to_html_perc(df):\n",
    "    return HTML(df.to_html(formatters={c:\"{:,.2%}\".format for c in df.columns}))\n",
    "\n",
    "def calc_metrics(returns):\n",
    "    df = pd.DataFrame(returns.mean(skipna=False).to_frame().T)\n",
    "    df.index = ['Mean']\n",
    "    df.loc['Std Dev.'] = returns.std()\n",
    "    df.loc['CAGR'] = np.expm1(np.log1p(returns).mean(skipna=False))\n",
    "    return df\n",
    "\n",
    "returns = us_data.iloc[:, [0, 2, 1]].copy()\n",
    "to_html_perc(calc_metrics(returns))"
   ]
  },
  {
   "cell_type": "code",
   "execution_count": null,
   "metadata": {
    "collapsed": false
   },
   "outputs": [],
   "source": [
    "sp500 = returns['S&P 500']\n",
    "tbill = returns['3-month T.Bill']\n",
    "returns['S&P 2X'] = 1*(sp500-sp500.mean())+sp500\n",
    "to_html_perc(calc_metrics(returns))"
   ]
  },
  {
   "cell_type": "code",
   "execution_count": null,
   "metadata": {
    "collapsed": false
   },
   "outputs": [],
   "source": [
    "us = us_data[['Stocks', 'T.Bonds', 'T.Bills']].copy()\n",
    "us.loc[1927] = 100\n",
    "us.sort_index(inplace=True)\n",
    "us = us/us.iloc[0]\n",
    "#us['S&P 2X'] = np.exp(np.cumsum(np.log1p(returns['S&P 2X'])))\n",
    "pd.concat([us.head(3), us.tail(3)])"
   ]
  },
  {
   "cell_type": "code",
   "execution_count": null,
   "metadata": {
    "collapsed": false
   },
   "outputs": [],
   "source": [
    "us.plot(figsize=(16,8))"
   ]
  },
  {
   "cell_type": "code",
   "execution_count": null,
   "metadata": {
    "collapsed": false
   },
   "outputs": [],
   "source": [
    "us.plot(figsize=(16,8), logy=True)"
   ]
  },
  {
   "cell_type": "code",
   "execution_count": null,
   "metadata": {
    "collapsed": false
   },
   "outputs": [],
   "source": [
    "np.log(us).plot(figsize=(16,8))"
   ]
  },
  {
   "cell_type": "markdown",
   "metadata": {},
   "source": [
    "## centiBils"
   ]
  },
  {
   "cell_type": "markdown",
   "metadata": {},
   "source": [
    "### Definition\n",
    "\n",
    "$$ 1 Bil = \\ln_2 2 = \\ln_2 (1+1) = \\ln (1+100\\%) / \\ln 2$$\n",
    "\n",
    "$$ r \\implies 100 \\ln_2(1+r) \\textrm{ centiBils} = \\frac{100}{\\ln 2} \\ln(1+r) \\textrm{ cB} $$"
   ]
  },
  {
   "cell_type": "code",
   "execution_count": null,
   "metadata": {
    "collapsed": true
   },
   "outputs": [],
   "source": [
    "def ret2cb(ret):\n",
    "    return 100/np.log(2)*np.log1p(ret)\n",
    "\n",
    "def cb2ret(cb):\n",
    "    return np.expm1(cb/100*np.log(2))\n",
    "\n",
    "def idx2cb(idx):\n",
    "    return 100/np.log(2)*np.log(idx)\n",
    "\n",
    "def cb2idx(cb):\n",
    "    return np.exp((c/100*np.log(2)))"
   ]
  },
  {
   "cell_type": "markdown",
   "metadata": {},
   "source": [
    "## Standard Percentage Returns"
   ]
  },
  {
   "cell_type": "code",
   "execution_count": null,
   "metadata": {
    "collapsed": true
   },
   "outputs": [],
   "source": [
    "vals = np.array([-1, -0.50, -0.25, -0.20, -0.10, -0.01, -0.0001])"
   ]
  },
  {
   "cell_type": "code",
   "execution_count": null,
   "metadata": {
    "collapsed": false
   },
   "outputs": [],
   "source": [
    "std_rets = np.r_[vals, 0, -vals[::-1]]\n",
    "standard_returns = pd.DataFrame({'Percentage Return':std_rets*100, 'centiBils Return':ret2cb(std_rets)})\n",
    "standard_returns"
   ]
  },
  {
   "cell_type": "code",
   "execution_count": null,
   "metadata": {
    "collapsed": false
   },
   "outputs": [],
   "source": [
    "std_cbs = 100*np.r_[vals, 0, -vals[::-1]]\n",
    "standard_centibils = pd.DataFrame({'centiBils Return':std_cbs, 'Percentage Return':cb2ret(std_cbs)*100})\n",
    "standard_centibils"
   ]
  },
  {
   "cell_type": "markdown",
   "metadata": {},
   "source": [
    "## Applications"
   ]
  },
  {
   "cell_type": "code",
   "execution_count": null,
   "metadata": {
    "collapsed": false
   },
   "outputs": [],
   "source": [
    "np.log(us).head()"
   ]
  },
  {
   "cell_type": "code",
   "execution_count": null,
   "metadata": {
    "collapsed": false
   },
   "outputs": [],
   "source": [
    "idx2cb(us).plot(figsize=(16,8))"
   ]
  },
  {
   "cell_type": "code",
   "execution_count": null,
   "metadata": {
    "collapsed": false
   },
   "outputs": [],
   "source": [
    "import nvd3\n",
    "#nvd3.ipynb.initialize_javascript(use_remote=True)\n",
    "nvd3.ipynb.initialize_javascript()"
   ]
  },
  {
   "cell_type": "code",
   "execution_count": null,
   "metadata": {
    "collapsed": false
   },
   "outputs": [],
   "source": [
    "from nvd3 import lineChart\n",
    "chart = lineChart(name='NVD3', x_is_date=False, width=1024)\n",
    "for asset_class, series in idx2cb(us).iteritems():\n",
    "    #x = [\"{}-12-31\".format(dt) for dt in series.index]\n",
    "    x = [str(dt) for dt in series.index]\n",
    "    chart.add_serie(name=asset_class, y=list(series.values), x=x)\n",
    "\n",
    "chart.buildcontent()"
   ]
  },
  {
   "cell_type": "code",
   "execution_count": null,
   "metadata": {
    "collapsed": false,
    "scrolled": false
   },
   "outputs": [],
   "source": [
    "HTML(chart.htmlcontent)"
   ]
  }
 ],
 "metadata": {
  "anaconda-cloud": {},
  "kernelspec": {
   "display_name": "Python [conda env:py35]",
   "language": "python",
   "name": "conda-env-py35-py"
  },
  "language_info": {
   "codemirror_mode": {
    "name": "ipython",
    "version": 3
   },
   "file_extension": ".py",
   "mimetype": "text/x-python",
   "name": "python",
   "nbconvert_exporter": "python",
   "pygments_lexer": "ipython3",
   "version": "3.5.2"
  }
 },
 "nbformat": 4,
 "nbformat_minor": 1
}
