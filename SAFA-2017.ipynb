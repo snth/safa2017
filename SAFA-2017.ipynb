{
 "cells": [
  {
   "cell_type": "markdown",
   "metadata": {
    "slideshow": {
     "slide_type": "slide"
    }
   },
   "source": [
    "# centiBils: A unit for Investment Performance Analysis\n",
    "\n",
    "<br><br>\n",
    "## Tobias Brandt ##\n",
    "<!-- <img src=\"media/argon_logo.png\" align=left width=400> -->\n",
    "![Argon Logo](media/argon_logo.png)"
   ]
  },
  {
   "cell_type": "markdown",
   "metadata": {
    "nbpresent": {
     "id": "55df224a-1c41-45fc-9b52-276d33fee24e"
    },
    "slideshow": {
     "slide_type": "subslide"
    }
   },
   "source": [
    "## Abstract\n",
    "\n",
    "Percentage Returns are the de-facto standard for Investment Performance\n",
    "Measurement. Yet they are not very well suited for multi-period performance\n",
    "evaluation. As an illustrative example, does the sequence (-30%, +40%) represent a\n",
    "positive or negative overall return? We review some of the problems with using\n",
    "percentage returns such as the lack of symmetry, lack of additivity and\n",
    "differences between the arithmetic and geometric means. We then introduce a new\n",
    "logarithmic unit modeled on the deciBel, tentatively called a centiBil, which\n",
    "addresses these shortcomings. Finally we conclude by using the centiBil to\n",
    "compare the performance of US Stocks, Bonds and Bills since 1927 and show how\n",
    "their use eases cross-period comparisons."
   ]
  },
  {
   "cell_type": "markdown",
   "metadata": {
    "slideshow": {
     "slide_type": "subslide"
    }
   },
   "source": [
    "## Agenda\n",
    "\n",
    " 1. Problems with (Simple-)Returns\n",
    "      * Returns are not symmetric\n",
    "      * Returns are not (longitudinally) additive\n",
    "      * The mean return doesn't represent the growth rate of the investment\n",
    " 2. Problems with existing logarithmic units\n",
    "      * Neper\n",
    "      * Bels (i.e. deciBels)"
   ]
  },
  {
   "cell_type": "markdown",
   "metadata": {
    "nbpresent": {
     "id": "4a358deb-a8e0-4133-8af2-89d1e4b1058a"
    },
    "slideshow": {
     "slide_type": "subslide"
    }
   },
   "source": [
    "## Agenda (contd)\n",
    "\n",
    "3. centiBils\n",
    "      * Definition\n",
    "      * Conversions\n",
    "      * Standard Values\n",
    "4. Applications\n",
    "      * S&P 500 Returns since 1927"
   ]
  },
  {
   "cell_type": "markdown",
   "metadata": {
    "nbpresent": {
     "id": "0956146a-9dd6-4499-bd97-abcb0d78acca"
    },
    "slideshow": {
     "slide_type": "slide"
    }
   },
   "source": [
    "## Problems with Returns"
   ]
  },
  {
   "cell_type": "markdown",
   "metadata": {
    "slideshow": {
     "slide_type": "fragment"
    }
   },
   "source": [
    "### Returns are not symmetric\n",
    "\n",
    "  * You are probably aware that if your investment experiences a **-50%** return, you need a **+100%** just to break even again.\n",
    "  * This lack of symmetry makes it difficult to interpret sequences of returns.\n",
    "  * For example, does the sequence (-30%, +40%) represent an overall positive or negative return?"
   ]
  },
  {
   "cell_type": "code",
   "execution_count": 1,
   "metadata": {
    "collapsed": true,
    "nbpresent": {
     "id": "81f45f7e-7209-4aeb-9b5d-836c74b0aacd"
    },
    "scrolled": false,
    "slideshow": {
     "slide_type": "skip"
    }
   },
   "outputs": [],
   "source": [
    "import numpy as np\n",
    "import pandas as pd\n",
    "import matplotlib.pyplot as plt\n",
    "import statsmodels.api as sm\n",
    "import seaborn as sns\n",
    "%matplotlib inline\n",
    "plt.rcParams['figure.figsize'] = (16, 8)"
   ]
  },
  {
   "cell_type": "code",
   "execution_count": 2,
   "metadata": {
    "collapsed": false,
    "nbpresent": {
     "id": "b916e0f0-8265-4c9a-95b8-08a2c99ed8ac"
    },
    "scrolled": false,
    "slideshow": {
     "slide_type": "skip"
    }
   },
   "outputs": [
    {
     "name": "stdout",
     "output_type": "stream",
     "text": [
      "r = -0.02 = -2.00%\n"
     ]
    }
   ],
   "source": [
    "r = (1-30/100)*(1+40/100)-1\n",
    "print(\"r = {r:.2f} = {r:.2%}\".format(r=r))"
   ]
  },
  {
   "cell_type": "markdown",
   "metadata": {
    "nbpresent": {
     "id": "958fe96b-1847-479b-b9e1-35d88262c43d"
    },
    "slideshow": {
     "slide_type": "fragment"
    }
   },
   "source": [
    "$$ r = (1 - \\frac{30}{100})(1 + \\frac{40}{100}) - 1 = -0.02 = -2\\% $$"
   ]
  },
  {
   "cell_type": "markdown",
   "metadata": {
    "nbpresent": {
     "id": "fdd89a1a-95d2-4350-8f3d-5386f46f9958"
    },
    "slideshow": {
     "slide_type": "subslide"
    }
   },
   "source": [
    "### Returns are not (longitudinally) additive\n",
    "\n",
    "  * As seen in the previous example, we have to add returns geometrically."
   ]
  },
  {
   "cell_type": "markdown",
   "metadata": {
    "slideshow": {
     "slide_type": "fragment"
    }
   },
   "source": [
    "### The mean return doesn't represent the growth rate"
   ]
  },
  {
   "cell_type": "markdown",
   "metadata": {
    "nbpresent": {
     "id": "2d63a294-2df1-47b9-8099-db3552899d61"
    },
    "slideshow": {
     "slide_type": "fragment"
    }
   },
   "source": [
    "$$ g = \\mu - \\frac{1}{2}\\sigma^2 $$"
   ]
  },
  {
   "cell_type": "markdown",
   "metadata": {
    "nbpresent": {
     "id": "55609a83-1795-48de-81f7-ddce39343375"
    },
    "slideshow": {
     "slide_type": "subslide"
    }
   },
   "source": [
    "### Example: US Asset Class Returns (since 1927) ###"
   ]
  },
  {
   "cell_type": "code",
   "execution_count": 3,
   "metadata": {
    "collapsed": false,
    "nbpresent": {
     "id": "75bbf2ae-34d6-4ac0-a542-8747f7ee92a9"
    },
    "scrolled": false,
    "slideshow": {
     "slide_type": "skip"
    }
   },
   "outputs": [
    {
     "data": {
      "text/html": [
       "<div>\n",
       "<table border=\"1\" class=\"dataframe\">\n",
       "  <thead>\n",
       "    <tr style=\"text-align: right;\">\n",
       "      <th></th>\n",
       "      <th>S&amp;P 500</th>\n",
       "      <th>3-month T.Bill</th>\n",
       "      <th>10-year T. Bond</th>\n",
       "      <th>Stocks</th>\n",
       "      <th>T.Bills</th>\n",
       "      <th>T.Bonds</th>\n",
       "      <th>Stocks - Bills</th>\n",
       "      <th>Stocks - Bonds</th>\n",
       "      <th>Historical risk premium</th>\n",
       "    </tr>\n",
       "    <tr>\n",
       "      <th>Year</th>\n",
       "      <th></th>\n",
       "      <th></th>\n",
       "      <th></th>\n",
       "      <th></th>\n",
       "      <th></th>\n",
       "      <th></th>\n",
       "      <th></th>\n",
       "      <th></th>\n",
       "      <th></th>\n",
       "    </tr>\n",
       "  </thead>\n",
       "  <tbody>\n",
       "    <tr>\n",
       "      <th>1928</th>\n",
       "      <td>0.438112</td>\n",
       "      <td>0.03080</td>\n",
       "      <td>0.008355</td>\n",
       "      <td>143.811155</td>\n",
       "      <td>103.080000</td>\n",
       "      <td>100.835471</td>\n",
       "      <td>0.407312</td>\n",
       "      <td>0.429757</td>\n",
       "      <td>NaN</td>\n",
       "    </tr>\n",
       "    <tr>\n",
       "      <th>1929</th>\n",
       "      <td>-0.082979</td>\n",
       "      <td>0.03160</td>\n",
       "      <td>0.042038</td>\n",
       "      <td>131.877782</td>\n",
       "      <td>106.337328</td>\n",
       "      <td>105.074397</td>\n",
       "      <td>-0.114579</td>\n",
       "      <td>-0.125018</td>\n",
       "      <td>NaN</td>\n",
       "    </tr>\n",
       "    <tr>\n",
       "      <th>1930</th>\n",
       "      <td>-0.251236</td>\n",
       "      <td>0.04550</td>\n",
       "      <td>0.045409</td>\n",
       "      <td>98.745288</td>\n",
       "      <td>111.175676</td>\n",
       "      <td>109.845753</td>\n",
       "      <td>-0.296736</td>\n",
       "      <td>-0.296646</td>\n",
       "      <td>NaN</td>\n",
       "    </tr>\n",
       "    <tr>\n",
       "      <th>1931</th>\n",
       "      <td>-0.438375</td>\n",
       "      <td>0.02310</td>\n",
       "      <td>-0.025589</td>\n",
       "      <td>55.457774</td>\n",
       "      <td>113.743835</td>\n",
       "      <td>107.034958</td>\n",
       "      <td>-0.461475</td>\n",
       "      <td>-0.412787</td>\n",
       "      <td>NaN</td>\n",
       "    </tr>\n",
       "    <tr>\n",
       "      <th>1932</th>\n",
       "      <td>-0.086424</td>\n",
       "      <td>0.01070</td>\n",
       "      <td>0.087903</td>\n",
       "      <td>50.664911</td>\n",
       "      <td>114.960894</td>\n",
       "      <td>116.443660</td>\n",
       "      <td>-0.097124</td>\n",
       "      <td>-0.174327</td>\n",
       "      <td>NaN</td>\n",
       "    </tr>\n",
       "    <tr>\n",
       "      <th>2011</th>\n",
       "      <td>0.020984</td>\n",
       "      <td>0.00030</td>\n",
       "      <td>0.160353</td>\n",
       "      <td>166871.562968</td>\n",
       "      <td>1970.435920</td>\n",
       "      <td>6726.521265</td>\n",
       "      <td>0.020684</td>\n",
       "      <td>-0.139370</td>\n",
       "      <td>0.040970</td>\n",
       "    </tr>\n",
       "    <tr>\n",
       "      <th>2012</th>\n",
       "      <td>0.158906</td>\n",
       "      <td>0.00050</td>\n",
       "      <td>0.029716</td>\n",
       "      <td>193388.430926</td>\n",
       "      <td>1971.421138</td>\n",
       "      <td>6926.404686</td>\n",
       "      <td>0.158406</td>\n",
       "      <td>0.129190</td>\n",
       "      <td>0.041988</td>\n",
       "    </tr>\n",
       "    <tr>\n",
       "      <th>2013</th>\n",
       "      <td>0.321451</td>\n",
       "      <td>0.00066</td>\n",
       "      <td>-0.091046</td>\n",
       "      <td>255553.308086</td>\n",
       "      <td>1972.722276</td>\n",
       "      <td>6295.785407</td>\n",
       "      <td>0.320791</td>\n",
       "      <td>0.412497</td>\n",
       "      <td>0.046177</td>\n",
       "    </tr>\n",
       "    <tr>\n",
       "      <th>2014</th>\n",
       "      <td>0.135244</td>\n",
       "      <td>0.00053</td>\n",
       "      <td>0.107462</td>\n",
       "      <td>290115.415011</td>\n",
       "      <td>1973.767818</td>\n",
       "      <td>6972.341867</td>\n",
       "      <td>0.134714</td>\n",
       "      <td>0.027782</td>\n",
       "      <td>0.045975</td>\n",
       "    </tr>\n",
       "    <tr>\n",
       "      <th>2015</th>\n",
       "      <td>0.013599</td>\n",
       "      <td>0.00210</td>\n",
       "      <td>0.012843</td>\n",
       "      <td>294060.838111</td>\n",
       "      <td>1977.912731</td>\n",
       "      <td>7061.887631</td>\n",
       "      <td>0.011499</td>\n",
       "      <td>0.000756</td>\n",
       "      <td>0.045432</td>\n",
       "    </tr>\n",
       "  </tbody>\n",
       "</table>\n",
       "</div>"
      ],
      "text/plain": [
       "       S&P 500  3-month T.Bill  10-year T. Bond         Stocks      T.Bills  \\\n",
       "Year                                                                          \n",
       "1928  0.438112         0.03080         0.008355     143.811155   103.080000   \n",
       "1929 -0.082979         0.03160         0.042038     131.877782   106.337328   \n",
       "1930 -0.251236         0.04550         0.045409      98.745288   111.175676   \n",
       "1931 -0.438375         0.02310        -0.025589      55.457774   113.743835   \n",
       "1932 -0.086424         0.01070         0.087903      50.664911   114.960894   \n",
       "2011  0.020984         0.00030         0.160353  166871.562968  1970.435920   \n",
       "2012  0.158906         0.00050         0.029716  193388.430926  1971.421138   \n",
       "2013  0.321451         0.00066        -0.091046  255553.308086  1972.722276   \n",
       "2014  0.135244         0.00053         0.107462  290115.415011  1973.767818   \n",
       "2015  0.013599         0.00210         0.012843  294060.838111  1977.912731   \n",
       "\n",
       "          T.Bonds  Stocks - Bills  Stocks - Bonds  Historical risk premium  \n",
       "Year                                                                        \n",
       "1928   100.835471        0.407312        0.429757                      NaN  \n",
       "1929   105.074397       -0.114579       -0.125018                      NaN  \n",
       "1930   109.845753       -0.296736       -0.296646                      NaN  \n",
       "1931   107.034958       -0.461475       -0.412787                      NaN  \n",
       "1932   116.443660       -0.097124       -0.174327                      NaN  \n",
       "2011  6726.521265        0.020684       -0.139370                 0.040970  \n",
       "2012  6926.404686        0.158406        0.129190                 0.041988  \n",
       "2013  6295.785407        0.320791        0.412497                 0.046177  \n",
       "2014  6972.341867        0.134714        0.027782                 0.045975  \n",
       "2015  7061.887631        0.011499        0.000756                 0.045432  "
      ]
     },
     "execution_count": 3,
     "metadata": {},
     "output_type": "execute_result"
    }
   ],
   "source": [
    "us_data = pd.read_excel('data/histretSP.xls', sheetname='Returns by year', skiprows=17, skip_footer=10, index_col=0)\n",
    "pd.concat([us_data.head(5), us_data.tail(5)])"
   ]
  },
  {
   "cell_type": "code",
   "execution_count": 4,
   "metadata": {
    "collapsed": true,
    "scrolled": false,
    "slideshow": {
     "slide_type": "skip"
    }
   },
   "outputs": [],
   "source": [
    "from IPython.core.display import display, HTML\n",
    "def to_html_perc(df):\n",
    "    return HTML(df.to_html(formatters={c:\"{:,.2%}\".format for c in df.columns}))\n",
    "\n",
    "def calc_metrics(returns):\n",
    "    df = pd.DataFrame(returns.mean(skipna=False).to_frame().T)\n",
    "    df.index = ['Mean']\n",
    "    df.loc['Std Dev.'] = returns.std()\n",
    "    df.loc['CAGR'] = np.expm1(np.log1p(returns).mean(skipna=False))\n",
    "    return df\n",
    "\n",
    "returns = us_data.iloc[:, [0, 2, 1]].copy()\n",
    "us_returns_sample = pd.concat([returns.head(5), returns.tail(5)])"
   ]
  },
  {
   "cell_type": "code",
   "execution_count": 5,
   "metadata": {
    "collapsed": false,
    "slideshow": {
     "slide_type": "fragment"
    }
   },
   "outputs": [
    {
     "data": {
      "text/html": [
       "<table border=\"1\" class=\"dataframe\">\n",
       "  <thead>\n",
       "    <tr style=\"text-align: right;\">\n",
       "      <th></th>\n",
       "      <th>S&amp;P 500</th>\n",
       "      <th>10-year T. Bond</th>\n",
       "      <th>3-month T.Bill</th>\n",
       "    </tr>\n",
       "    <tr>\n",
       "      <th>Year</th>\n",
       "      <th></th>\n",
       "      <th></th>\n",
       "      <th></th>\n",
       "    </tr>\n",
       "  </thead>\n",
       "  <tbody>\n",
       "    <tr>\n",
       "      <th>1928</th>\n",
       "      <td>43.81%</td>\n",
       "      <td>0.84%</td>\n",
       "      <td>3.08%</td>\n",
       "    </tr>\n",
       "    <tr>\n",
       "      <th>1929</th>\n",
       "      <td>-8.30%</td>\n",
       "      <td>4.20%</td>\n",
       "      <td>3.16%</td>\n",
       "    </tr>\n",
       "    <tr>\n",
       "      <th>1930</th>\n",
       "      <td>-25.12%</td>\n",
       "      <td>4.54%</td>\n",
       "      <td>4.55%</td>\n",
       "    </tr>\n",
       "    <tr>\n",
       "      <th>1931</th>\n",
       "      <td>-43.84%</td>\n",
       "      <td>-2.56%</td>\n",
       "      <td>2.31%</td>\n",
       "    </tr>\n",
       "    <tr>\n",
       "      <th>1932</th>\n",
       "      <td>-8.64%</td>\n",
       "      <td>8.79%</td>\n",
       "      <td>1.07%</td>\n",
       "    </tr>\n",
       "    <tr>\n",
       "      <th>2011</th>\n",
       "      <td>2.10%</td>\n",
       "      <td>16.04%</td>\n",
       "      <td>0.03%</td>\n",
       "    </tr>\n",
       "    <tr>\n",
       "      <th>2012</th>\n",
       "      <td>15.89%</td>\n",
       "      <td>2.97%</td>\n",
       "      <td>0.05%</td>\n",
       "    </tr>\n",
       "    <tr>\n",
       "      <th>2013</th>\n",
       "      <td>32.15%</td>\n",
       "      <td>-9.10%</td>\n",
       "      <td>0.07%</td>\n",
       "    </tr>\n",
       "    <tr>\n",
       "      <th>2014</th>\n",
       "      <td>13.52%</td>\n",
       "      <td>10.75%</td>\n",
       "      <td>0.05%</td>\n",
       "    </tr>\n",
       "    <tr>\n",
       "      <th>2015</th>\n",
       "      <td>1.36%</td>\n",
       "      <td>1.28%</td>\n",
       "      <td>0.21%</td>\n",
       "    </tr>\n",
       "  </tbody>\n",
       "</table>"
      ],
      "text/plain": [
       "<IPython.core.display.HTML object>"
      ]
     },
     "execution_count": 5,
     "metadata": {},
     "output_type": "execute_result"
    }
   ],
   "source": [
    "to_html_perc(us_returns_sample)"
   ]
  },
  {
   "cell_type": "code",
   "execution_count": 6,
   "metadata": {
    "collapsed": false,
    "nbpresent": {
     "id": "d6f5b57a-c638-4c48-81c7-4d72c3ebc8bc"
    },
    "scrolled": false,
    "slideshow": {
     "slide_type": "subslide"
    }
   },
   "outputs": [
    {
     "data": {
      "text/html": [
       "<table border=\"1\" class=\"dataframe\">\n",
       "  <thead>\n",
       "    <tr style=\"text-align: right;\">\n",
       "      <th></th>\n",
       "      <th>S&amp;P 500</th>\n",
       "      <th>10-year T. Bond</th>\n",
       "      <th>3-month T.Bill</th>\n",
       "    </tr>\n",
       "  </thead>\n",
       "  <tbody>\n",
       "    <tr>\n",
       "      <th>Mean</th>\n",
       "      <td>11.41%</td>\n",
       "      <td>5.23%</td>\n",
       "      <td>3.49%</td>\n",
       "    </tr>\n",
       "    <tr>\n",
       "      <th>Std Dev.</th>\n",
       "      <td>19.82%</td>\n",
       "      <td>7.79%</td>\n",
       "      <td>3.07%</td>\n",
       "    </tr>\n",
       "    <tr>\n",
       "      <th>CAGR</th>\n",
       "      <td>9.50%</td>\n",
       "      <td>4.96%</td>\n",
       "      <td>3.45%</td>\n",
       "    </tr>\n",
       "  </tbody>\n",
       "</table>"
      ],
      "text/plain": [
       "<IPython.core.display.HTML object>"
      ]
     },
     "execution_count": 6,
     "metadata": {},
     "output_type": "execute_result"
    }
   ],
   "source": [
    "to_html_perc(calc_metrics(returns))"
   ]
  },
  {
   "cell_type": "code",
   "execution_count": 7,
   "metadata": {
    "collapsed": true,
    "scrolled": false,
    "slideshow": {
     "slide_type": "skip"
    }
   },
   "outputs": [],
   "source": [
    "sp500 = returns['S&P 500']\n",
    "tbill = returns['3-month T.Bill']\n",
    "returns['S&P 2X'] = 1*(sp500-sp500.mean())+sp500"
   ]
  },
  {
   "cell_type": "code",
   "execution_count": 8,
   "metadata": {
    "collapsed": false,
    "nbpresent": {
     "id": "6a75046c-e083-4557-8aba-982faf61eac7"
    },
    "scrolled": false,
    "slideshow": {
     "slide_type": "fragment"
    }
   },
   "outputs": [
    {
     "data": {
      "text/html": [
       "<table border=\"1\" class=\"dataframe\">\n",
       "  <thead>\n",
       "    <tr style=\"text-align: right;\">\n",
       "      <th></th>\n",
       "      <th>S&amp;P 500</th>\n",
       "      <th>10-year T. Bond</th>\n",
       "      <th>3-month T.Bill</th>\n",
       "      <th>S&amp;P 2X</th>\n",
       "    </tr>\n",
       "  </thead>\n",
       "  <tbody>\n",
       "    <tr>\n",
       "      <th>Mean</th>\n",
       "      <td>11.41%</td>\n",
       "      <td>5.23%</td>\n",
       "      <td>3.49%</td>\n",
       "      <td>11.41%</td>\n",
       "    </tr>\n",
       "    <tr>\n",
       "      <th>Std Dev.</th>\n",
       "      <td>19.82%</td>\n",
       "      <td>7.79%</td>\n",
       "      <td>3.07%</td>\n",
       "      <td>39.63%</td>\n",
       "    </tr>\n",
       "    <tr>\n",
       "      <th>CAGR</th>\n",
       "      <td>9.50%</td>\n",
       "      <td>4.96%</td>\n",
       "      <td>3.45%</td>\n",
       "      <td>-1.22%</td>\n",
       "    </tr>\n",
       "  </tbody>\n",
       "</table>"
      ],
      "text/plain": [
       "<IPython.core.display.HTML object>"
      ]
     },
     "execution_count": 8,
     "metadata": {},
     "output_type": "execute_result"
    }
   ],
   "source": [
    "to_html_perc(calc_metrics(returns))"
   ]
  },
  {
   "cell_type": "code",
   "execution_count": 9,
   "metadata": {
    "collapsed": false,
    "nbpresent": {
     "id": "9b0bfca6-26ff-4cb9-a95d-442f6e70d59f"
    },
    "scrolled": false,
    "slideshow": {
     "slide_type": "skip"
    }
   },
   "outputs": [
    {
     "data": {
      "text/html": [
       "<div>\n",
       "<table border=\"1\" class=\"dataframe\">\n",
       "  <thead>\n",
       "    <tr style=\"text-align: right;\">\n",
       "      <th></th>\n",
       "      <th>Stocks</th>\n",
       "      <th>T.Bonds</th>\n",
       "      <th>T.Bills</th>\n",
       "    </tr>\n",
       "    <tr>\n",
       "      <th>Year</th>\n",
       "      <th></th>\n",
       "      <th></th>\n",
       "      <th></th>\n",
       "    </tr>\n",
       "  </thead>\n",
       "  <tbody>\n",
       "    <tr>\n",
       "      <th>1927</th>\n",
       "      <td>1.000000</td>\n",
       "      <td>1.000000</td>\n",
       "      <td>1.000000</td>\n",
       "    </tr>\n",
       "    <tr>\n",
       "      <th>1928</th>\n",
       "      <td>1.438112</td>\n",
       "      <td>1.008355</td>\n",
       "      <td>1.030800</td>\n",
       "    </tr>\n",
       "    <tr>\n",
       "      <th>1929</th>\n",
       "      <td>1.318778</td>\n",
       "      <td>1.050744</td>\n",
       "      <td>1.063373</td>\n",
       "    </tr>\n",
       "    <tr>\n",
       "      <th>2013</th>\n",
       "      <td>2555.533081</td>\n",
       "      <td>62.957854</td>\n",
       "      <td>19.727223</td>\n",
       "    </tr>\n",
       "    <tr>\n",
       "      <th>2014</th>\n",
       "      <td>2901.154150</td>\n",
       "      <td>69.723419</td>\n",
       "      <td>19.737678</td>\n",
       "    </tr>\n",
       "    <tr>\n",
       "      <th>2015</th>\n",
       "      <td>2940.608381</td>\n",
       "      <td>70.618876</td>\n",
       "      <td>19.779127</td>\n",
       "    </tr>\n",
       "  </tbody>\n",
       "</table>\n",
       "</div>"
      ],
      "text/plain": [
       "           Stocks    T.Bonds    T.Bills\n",
       "Year                                   \n",
       "1927     1.000000   1.000000   1.000000\n",
       "1928     1.438112   1.008355   1.030800\n",
       "1929     1.318778   1.050744   1.063373\n",
       "2013  2555.533081  62.957854  19.727223\n",
       "2014  2901.154150  69.723419  19.737678\n",
       "2015  2940.608381  70.618876  19.779127"
      ]
     },
     "execution_count": 9,
     "metadata": {},
     "output_type": "execute_result"
    }
   ],
   "source": [
    "us = us_data[['Stocks', 'T.Bonds', 'T.Bills']].copy()\n",
    "us.loc[1927] = 100\n",
    "us.sort_index(inplace=True)\n",
    "us = us/us.iloc[0]\n",
    "#us['S&P 2X'] = np.exp(np.cumsum(np.log1p(returns['S&P 2X'])))\n",
    "pd.concat([us.head(3), us.tail(3)])"
   ]
  },
  {
   "cell_type": "markdown",
   "metadata": {
    "slideshow": {
     "slide_type": "slide"
    }
   },
   "source": [
    "## Returns are often not useful for graphical analysis ## "
   ]
  },
  {
   "cell_type": "code",
   "execution_count": 10,
   "metadata": {
    "collapsed": false,
    "nbpresent": {
     "id": "cfeb9dba-5665-47e8-a46b-4a32a635206b"
    },
    "scrolled": false,
    "slideshow": {
     "slide_type": "fragment"
    }
   },
   "outputs": [
    {
     "data": {
      "image/png": "[encoded data removed]",
      "text/plain": [
       "<matplotlib.figure.Figure at 0xcfd3630>"
      ]
     },
     "metadata": {},
     "output_type": "display_data"
    }
   ],
   "source": [
    "us.plot();"
   ]
  },
  {
   "cell_type": "code",
   "execution_count": 11,
   "metadata": {
    "collapsed": false,
    "nbpresent": {
     "id": "8fd17029-3cad-49da-a2dd-d2fff16965eb"
    },
    "scrolled": false,
    "slideshow": {
     "slide_type": "subslide"
    }
   },
   "outputs": [
    {
     "data": {
      "image/png": "[encoded data removed]",
      "text/plain": [
       "<matplotlib.figure.Figure at 0xe626e50>"
      ]
     },
     "metadata": {},
     "output_type": "display_data"
    }
   ],
   "source": [
    "us.plot(logy=True);"
   ]
  },
  {
   "cell_type": "code",
   "execution_count": 12,
   "metadata": {
    "collapsed": false,
    "nbpresent": {
     "id": "a969d294-a539-4fd4-aa19-7704005f9738"
    },
    "scrolled": false,
    "slideshow": {
     "slide_type": "subslide"
    }
   },
   "outputs": [
    {
     "data": {
      "image/png": "[encoded data removed]",
      "text/plain": [
       "<matplotlib.figure.Figure at 0xcfb2950>"
      ]
     },
     "metadata": {},
     "output_type": "display_data"
    }
   ],
   "source": [
    "np.log(us).plot();"
   ]
  },
  {
   "cell_type": "markdown",
   "metadata": {
    "slideshow": {
     "slide_type": "slide"
    }
   },
   "source": [
    "## Neper ##"
   ]
  },
  {
   "cell_type": "markdown",
   "metadata": {
    "slideshow": {
     "slide_type": "fragment"
    }
   },
   "source": [
    "The **neper** (unit symbol **Np**) is a logarithmic unit for ratios of measurements of physical field and power quantities, such as gain and loss of electronic signals. The unit's name is derived from the name of John Napier, the inventor of logarithms."
   ]
  },
  {
   "cell_type": "markdown",
   "metadata": {
    "slideshow": {
     "slide_type": "fragment"
    }
   },
   "source": [
    "Like the decibel, the neper is a unit in a logarithmic scale. While the bel uses the decadic (base-10) logarithm to compute ratios, the neper uses the natural logarithm, based on Euler's number (e ≈ 2.71828). The value of a ratio in nepers is given by\n",
    "\n",
    "$$ L_{\\rm {Np}}=\\ln {\\frac {x_{1}}{x_{2}}}=\\ln x_{1}-\\ln x_{2}.$$\n",
    "\n",
    "where $ x_{1} $ and $ x_{2} $ are the values of interest (amplitudes), and $\\ln$ is the natural logarithm."
   ]
  },
  {
   "cell_type": "markdown",
   "metadata": {
    "slideshow": {
     "slide_type": "subslide"
    }
   },
   "source": [
    "## Decibels ##"
   ]
  },
  {
   "cell_type": "markdown",
   "metadata": {
    "slideshow": {
     "slide_type": "fragment"
    }
   },
   "source": [
    "When referring to measurements of power quantities, a ratio can be expressed as a level in **decibels** by evaluating ten times the base-10 logarithm of the ratio of the measured quantity to reference value. Thus, the ratio of $P$ (measured power) to $P_{0}$ (reference power) is represented by $L_{P}$, that ratio expressed in decibels,[17] which is calculated using the formula:[2]\n",
    "\n",
    "$$ L_{P}=10\\log _{10}\\!\\left({\\frac {P}{P_{0}}}\\right)\\!~\\mathrm {dB} $$\n",
    "\n",
    "The base-10 logarithm of the ratio of the two power levels is the number of **bels**. The number of decibels is ten times the number of bels (equivalently, a decibel is one-tenth of a bel)."
   ]
  },
  {
   "cell_type": "markdown",
   "metadata": {
    "nbpresent": {
     "id": "b1337748-0be3-4a23-8742-143f552d994c"
    },
    "slideshow": {
     "slide_type": "slide"
    }
   },
   "source": [
    "## centiBils ##"
   ]
  },
  {
   "cell_type": "markdown",
   "metadata": {
    "slideshow": {
     "slide_type": "fragment"
    }
   },
   "source": [
    "When referring to measurements of **asset prices**, a ratio can be expressed as a level in **centibils** by evaluating **one hundred times** the **base-2 logarithm** of the ratio of the **measured price** to **reference price**. Thus, the ratio of $S$ (measured price) to $S_{0}$ (reference price) is represented by $L_{S}$, that ratio expressed in centibils, which is calculated using the formula:\n",
    "\n",
    "$$ L_{S}=100\\log _{2}\\!\\left({\\frac {S}{S_{0}}}\\right)\\!~\\mathrm {cB} $$\n",
    "\n",
    "The base-2 logarithm of the ratio of the two prices is the number of **bils**. The number of centibils is one hundred times the number of bils (equivalently, a centibil is one-hundreth of a bil)."
   ]
  },
  {
   "cell_type": "markdown",
   "metadata": {
    "slideshow": {
     "slide_type": "subslide"
    }
   },
   "source": [
    "### Conversions ###\n",
    "\n",
    "$$ 1 + r = \\frac{S}{S_0} $$\n",
    "\n",
    "$$ \\implies L_{S}=100\\log _{2}\\!\\left(1 + r\\right)\\!~\\mathrm {cB} $$\n",
    "\n",
    "$$ \\implies L_{S}=\\frac{100}{\\ln 2}\\ln\\!\\left(1 + r\\right)\\!~\\mathrm {cB} $$"
   ]
  },
  {
   "cell_type": "markdown",
   "metadata": {
    "nbpresent": {
     "id": "a9fe7417-8be7-405e-9f88-80fc50697b19"
    },
    "slideshow": {
     "slide_type": "subslide"
    }
   },
   "source": [
    "and\n",
    "\n",
    "$$ 1 + r = 2^{ \\left( \\frac{L_{S}}{100} \\right) } $$\n",
    "\n",
    "$$ \\implies r = \\exp \\!\\left( \\ln 2 \\frac{L_{S}}{100} \\right) - 1 $$\n",
    "\n",
    "$$ \\implies r = \\exp \\!\\left( \\frac{\\ln 2}{100} L_{S} \\right) - 1 $$\n"
   ]
  },
  {
   "cell_type": "code",
   "execution_count": 13,
   "metadata": {
    "collapsed": true,
    "nbpresent": {
     "id": "40ab6a8c-01c5-48e7-bf37-3ff7b6c1e9ce"
    },
    "scrolled": false,
    "slideshow": {
     "slide_type": "subslide"
    }
   },
   "outputs": [],
   "source": [
    "CENTIBIL_FACTOR = 100/np.log(2)\n",
    "\n",
    "def ret2cb(ret):\n",
    "    return CENTIBIL_FACTOR*np.log1p(ret)\n",
    "\n",
    "def cb2ret(cb):\n",
    "    return np.expm1(cb/CENTIBIL_FACTOR)\n",
    "\n",
    "def idx2cb(idx):\n",
    "    return CENTIBIL_FACTOR*np.log(idx)\n",
    "\n",
    "def cb2idx(cb):\n",
    "    return np.exp(cb/CENTIBIL_FACTOR)"
   ]
  },
  {
   "cell_type": "markdown",
   "metadata": {
    "nbpresent": {
     "id": "c5064fa9-aaff-4f9e-9f25-555660ab3068"
    },
    "slideshow": {
     "slide_type": "subslide"
    }
   },
   "source": [
    "### Standard Percentage Returns ###"
   ]
  },
  {
   "cell_type": "code",
   "execution_count": 14,
   "metadata": {
    "collapsed": false,
    "scrolled": false,
    "slideshow": {
     "slide_type": "skip"
    }
   },
   "outputs": [],
   "source": [
    "vals = np.array([-1, -0.50, -0.25, -0.20, -0.10, -0.01, -0.0001])\n",
    "std_rets = np.r_[vals, 0, -vals[::-1]]\n",
    "standard_returns = HTML(pd.DataFrame({'Percentage Return':std_rets, 'centiBils Return':ret2cb(std_rets)})\n",
    "                        .to_html(formatters={'Percentage Return':\"{:,.2%}\".format, 'centiBils Return':\"{:,.2f} cB\".format})\n",
    "                        )"
   ]
  },
  {
   "cell_type": "code",
   "execution_count": 15,
   "metadata": {
    "collapsed": false,
    "nbpresent": {
     "id": "264cd03a-fa4e-428c-87ac-3e0cf5a5d543"
    },
    "scrolled": false,
    "slideshow": {
     "slide_type": "fragment"
    }
   },
   "outputs": [
    {
     "data": {
      "text/html": [
       "<table border=\"1\" class=\"dataframe\">\n",
       "  <thead>\n",
       "    <tr style=\"text-align: right;\">\n",
       "      <th></th>\n",
       "      <th>Percentage Return</th>\n",
       "      <th>centiBils Return</th>\n",
       "    </tr>\n",
       "  </thead>\n",
       "  <tbody>\n",
       "    <tr>\n",
       "      <th>0</th>\n",
       "      <td>-100.00%</td>\n",
       "      <td>-inf cB</td>\n",
       "    </tr>\n",
       "    <tr>\n",
       "      <th>1</th>\n",
       "      <td>-50.00%</td>\n",
       "      <td>-100.00 cB</td>\n",
       "    </tr>\n",
       "    <tr>\n",
       "      <th>2</th>\n",
       "      <td>-25.00%</td>\n",
       "      <td>-41.50 cB</td>\n",
       "    </tr>\n",
       "    <tr>\n",
       "      <th>3</th>\n",
       "      <td>-20.00%</td>\n",
       "      <td>-32.19 cB</td>\n",
       "    </tr>\n",
       "    <tr>\n",
       "      <th>4</th>\n",
       "      <td>-10.00%</td>\n",
       "      <td>-15.20 cB</td>\n",
       "    </tr>\n",
       "    <tr>\n",
       "      <th>5</th>\n",
       "      <td>-1.00%</td>\n",
       "      <td>-1.45 cB</td>\n",
       "    </tr>\n",
       "    <tr>\n",
       "      <th>6</th>\n",
       "      <td>-0.01%</td>\n",
       "      <td>-0.01 cB</td>\n",
       "    </tr>\n",
       "    <tr>\n",
       "      <th>7</th>\n",
       "      <td>0.00%</td>\n",
       "      <td>0.00 cB</td>\n",
       "    </tr>\n",
       "    <tr>\n",
       "      <th>8</th>\n",
       "      <td>0.01%</td>\n",
       "      <td>0.01 cB</td>\n",
       "    </tr>\n",
       "    <tr>\n",
       "      <th>9</th>\n",
       "      <td>1.00%</td>\n",
       "      <td>1.44 cB</td>\n",
       "    </tr>\n",
       "    <tr>\n",
       "      <th>10</th>\n",
       "      <td>10.00%</td>\n",
       "      <td>13.75 cB</td>\n",
       "    </tr>\n",
       "    <tr>\n",
       "      <th>11</th>\n",
       "      <td>20.00%</td>\n",
       "      <td>26.30 cB</td>\n",
       "    </tr>\n",
       "    <tr>\n",
       "      <th>12</th>\n",
       "      <td>25.00%</td>\n",
       "      <td>32.19 cB</td>\n",
       "    </tr>\n",
       "    <tr>\n",
       "      <th>13</th>\n",
       "      <td>50.00%</td>\n",
       "      <td>58.50 cB</td>\n",
       "    </tr>\n",
       "    <tr>\n",
       "      <th>14</th>\n",
       "      <td>100.00%</td>\n",
       "      <td>100.00 cB</td>\n",
       "    </tr>\n",
       "  </tbody>\n",
       "</table>"
      ],
      "text/plain": [
       "<IPython.core.display.HTML object>"
      ]
     },
     "execution_count": 15,
     "metadata": {},
     "output_type": "execute_result"
    }
   ],
   "source": [
    "standard_returns"
   ]
  },
  {
   "cell_type": "markdown",
   "metadata": {
    "slideshow": {
     "slide_type": "subslide"
    }
   },
   "source": [
    "### Standard centiBil Values ###"
   ]
  },
  {
   "cell_type": "code",
   "execution_count": 16,
   "metadata": {
    "collapsed": false,
    "scrolled": false,
    "slideshow": {
     "slide_type": "skip"
    }
   },
   "outputs": [],
   "source": [
    "std_cbs = 100*np.r_[vals, 0, -vals[::-1]]\n",
    "standard_centibils = HTML(pd.DataFrame({'centiBils Return':std_cbs, 'Percentage Return':cb2ret(std_cbs)})\n",
    "                        .to_html(formatters={'Percentage Return':\"{:,.2%}\".format, 'centiBils Return':\"{:,.2f} cB\".format})\n",
    "                        )"
   ]
  },
  {
   "cell_type": "code",
   "execution_count": 17,
   "metadata": {
    "collapsed": false,
    "nbpresent": {
     "id": "7b184733-42d8-460d-b00f-67e4dceed024"
    },
    "scrolled": false,
    "slideshow": {
     "slide_type": "fragment"
    }
   },
   "outputs": [
    {
     "data": {
      "text/html": [
       "<table border=\"1\" class=\"dataframe\">\n",
       "  <thead>\n",
       "    <tr style=\"text-align: right;\">\n",
       "      <th></th>\n",
       "      <th>Percentage Return</th>\n",
       "      <th>centiBils Return</th>\n",
       "    </tr>\n",
       "  </thead>\n",
       "  <tbody>\n",
       "    <tr>\n",
       "      <th>0</th>\n",
       "      <td>-50.00%</td>\n",
       "      <td>-100.00 cB</td>\n",
       "    </tr>\n",
       "    <tr>\n",
       "      <th>1</th>\n",
       "      <td>-29.29%</td>\n",
       "      <td>-50.00 cB</td>\n",
       "    </tr>\n",
       "    <tr>\n",
       "      <th>2</th>\n",
       "      <td>-15.91%</td>\n",
       "      <td>-25.00 cB</td>\n",
       "    </tr>\n",
       "    <tr>\n",
       "      <th>3</th>\n",
       "      <td>-12.94%</td>\n",
       "      <td>-20.00 cB</td>\n",
       "    </tr>\n",
       "    <tr>\n",
       "      <th>4</th>\n",
       "      <td>-6.70%</td>\n",
       "      <td>-10.00 cB</td>\n",
       "    </tr>\n",
       "    <tr>\n",
       "      <th>5</th>\n",
       "      <td>-0.69%</td>\n",
       "      <td>-1.00 cB</td>\n",
       "    </tr>\n",
       "    <tr>\n",
       "      <th>6</th>\n",
       "      <td>-0.01%</td>\n",
       "      <td>-0.01 cB</td>\n",
       "    </tr>\n",
       "    <tr>\n",
       "      <th>7</th>\n",
       "      <td>0.00%</td>\n",
       "      <td>0.00 cB</td>\n",
       "    </tr>\n",
       "    <tr>\n",
       "      <th>8</th>\n",
       "      <td>0.01%</td>\n",
       "      <td>0.01 cB</td>\n",
       "    </tr>\n",
       "    <tr>\n",
       "      <th>9</th>\n",
       "      <td>0.70%</td>\n",
       "      <td>1.00 cB</td>\n",
       "    </tr>\n",
       "    <tr>\n",
       "      <th>10</th>\n",
       "      <td>7.18%</td>\n",
       "      <td>10.00 cB</td>\n",
       "    </tr>\n",
       "    <tr>\n",
       "      <th>11</th>\n",
       "      <td>14.87%</td>\n",
       "      <td>20.00 cB</td>\n",
       "    </tr>\n",
       "    <tr>\n",
       "      <th>12</th>\n",
       "      <td>18.92%</td>\n",
       "      <td>25.00 cB</td>\n",
       "    </tr>\n",
       "    <tr>\n",
       "      <th>13</th>\n",
       "      <td>41.42%</td>\n",
       "      <td>50.00 cB</td>\n",
       "    </tr>\n",
       "    <tr>\n",
       "      <th>14</th>\n",
       "      <td>100.00%</td>\n",
       "      <td>100.00 cB</td>\n",
       "    </tr>\n",
       "  </tbody>\n",
       "</table>"
      ],
      "text/plain": [
       "<IPython.core.display.HTML object>"
      ]
     },
     "execution_count": 17,
     "metadata": {},
     "output_type": "execute_result"
    }
   ],
   "source": [
    "standard_centibils"
   ]
  },
  {
   "cell_type": "markdown",
   "metadata": {
    "nbpresent": {
     "id": "f222b18b-8fae-4f22-9595-4f40cc02182e"
    },
    "slideshow": {
     "slide_type": "slide"
    }
   },
   "source": [
    "## Applications"
   ]
  },
  {
   "cell_type": "code",
   "execution_count": 18,
   "metadata": {
    "collapsed": false,
    "slideshow": {
     "slide_type": "skip"
    }
   },
   "outputs": [],
   "source": [
    "vals = np.array([-0.30, 0.40])\n",
    "rets = np.r_[vals]\n",
    "tbl = HTML(pd.DataFrame({'Percentage Return':rets, 'centiBils Return':ret2cb(rets)})\n",
    "                        .to_html(formatters={'Percentage Return':\"{:,.2%}\".format, 'centiBils Return':\"{:,.2f} cB\".format},\n",
    "                                 index=False)\n",
    "                        )"
   ]
  },
  {
   "cell_type": "markdown",
   "metadata": {
    "slideshow": {
     "slide_type": "fragment"
    }
   },
   "source": [
    "### centiBils are symmetric! ###"
   ]
  },
  {
   "cell_type": "markdown",
   "metadata": {
    "slideshow": {
     "slide_type": "fragment"
    }
   },
   "source": [
    "### centiBils are additive! ###"
   ]
  },
  {
   "cell_type": "code",
   "execution_count": 19,
   "metadata": {
    "collapsed": false,
    "slideshow": {
     "slide_type": "fragment"
    }
   },
   "outputs": [
    {
     "data": {
      "text/html": [
       "<table border=\"1\" class=\"dataframe\">\n",
       "  <thead>\n",
       "    <tr style=\"text-align: right;\">\n",
       "      <th>Percentage Return</th>\n",
       "      <th>centiBils Return</th>\n",
       "    </tr>\n",
       "  </thead>\n",
       "  <tbody>\n",
       "    <tr>\n",
       "      <td>-30.00%</td>\n",
       "      <td>-51.46 cB</td>\n",
       "    </tr>\n",
       "    <tr>\n",
       "      <td>40.00%</td>\n",
       "      <td>48.54 cB</td>\n",
       "    </tr>\n",
       "  </tbody>\n",
       "</table>"
      ],
      "text/plain": [
       "<IPython.core.display.HTML object>"
      ]
     },
     "execution_count": 19,
     "metadata": {},
     "output_type": "execute_result"
    }
   ],
   "source": [
    "tbl"
   ]
  },
  {
   "cell_type": "markdown",
   "metadata": {
    "slideshow": {
     "slide_type": "subslide"
    }
   },
   "source": [
    "### centiBils averages are representative of growth rates! ###"
   ]
  },
  {
   "cell_type": "code",
   "execution_count": 20,
   "metadata": {
    "collapsed": false,
    "slideshow": {
     "slide_type": "skip"
    }
   },
   "outputs": [],
   "source": [
    "cb_metrics = HTML(calc_metrics(ret2cb(returns))\n",
    "                  .drop('CAGR')\n",
    "                  .to_html(formatters={c:\"{:.2f} cB\".format for c in returns.columns})\n",
    "                  )"
   ]
  },
  {
   "cell_type": "code",
   "execution_count": 21,
   "metadata": {
    "collapsed": false,
    "slideshow": {
     "slide_type": "fragment"
    }
   },
   "outputs": [
    {
     "data": {
      "text/html": [
       "<table border=\"1\" class=\"dataframe\">\n",
       "  <thead>\n",
       "    <tr style=\"text-align: right;\">\n",
       "      <th></th>\n",
       "      <th>S&amp;P 500</th>\n",
       "      <th>10-year T. Bond</th>\n",
       "      <th>3-month T.Bill</th>\n",
       "      <th>S&amp;P 2X</th>\n",
       "    </tr>\n",
       "  </thead>\n",
       "  <tbody>\n",
       "    <tr>\n",
       "      <th>Mean</th>\n",
       "      <td>11.41%</td>\n",
       "      <td>5.23%</td>\n",
       "      <td>3.49%</td>\n",
       "      <td>11.41%</td>\n",
       "    </tr>\n",
       "    <tr>\n",
       "      <th>Std Dev.</th>\n",
       "      <td>19.82%</td>\n",
       "      <td>7.79%</td>\n",
       "      <td>3.07%</td>\n",
       "      <td>39.63%</td>\n",
       "    </tr>\n",
       "    <tr>\n",
       "      <th>CAGR</th>\n",
       "      <td>9.50%</td>\n",
       "      <td>4.96%</td>\n",
       "      <td>3.45%</td>\n",
       "      <td>-1.22%</td>\n",
       "    </tr>\n",
       "  </tbody>\n",
       "</table>"
      ],
      "text/plain": [
       "<IPython.core.display.HTML object>"
      ]
     },
     "execution_count": 21,
     "metadata": {},
     "output_type": "execute_result"
    }
   ],
   "source": [
    "to_html_perc(calc_metrics(returns))"
   ]
  },
  {
   "cell_type": "code",
   "execution_count": 22,
   "metadata": {
    "collapsed": false,
    "slideshow": {
     "slide_type": "fragment"
    }
   },
   "outputs": [
    {
     "data": {
      "text/html": [
       "<table border=\"1\" class=\"dataframe\">\n",
       "  <thead>\n",
       "    <tr style=\"text-align: right;\">\n",
       "      <th></th>\n",
       "      <th>S&amp;P 500</th>\n",
       "      <th>10-year T. Bond</th>\n",
       "      <th>3-month T.Bill</th>\n",
       "      <th>S&amp;P 2X</th>\n",
       "    </tr>\n",
       "  </thead>\n",
       "  <tbody>\n",
       "    <tr>\n",
       "      <th>Mean</th>\n",
       "      <td>13.09 cB</td>\n",
       "      <td>6.98 cB</td>\n",
       "      <td>4.89 cB</td>\n",
       "      <td>-1.77 cB</td>\n",
       "    </tr>\n",
       "    <tr>\n",
       "      <th>Std Dev.</th>\n",
       "      <td>27.83 cB</td>\n",
       "      <td>10.40 cB</td>\n",
       "      <td>4.22 cB</td>\n",
       "      <td>97.00 cB</td>\n",
       "    </tr>\n",
       "  </tbody>\n",
       "</table>"
      ],
      "text/plain": [
       "<IPython.core.display.HTML object>"
      ]
     },
     "execution_count": 22,
     "metadata": {},
     "output_type": "execute_result"
    }
   ],
   "source": [
    "cb_metrics"
   ]
  },
  {
   "cell_type": "code",
   "execution_count": 23,
   "metadata": {
    "collapsed": false,
    "nbpresent": {
     "id": "afa77777-6100-46bb-8fcc-9567cdd98d2f"
    },
    "scrolled": false,
    "slideshow": {
     "slide_type": "subslide"
    }
   },
   "outputs": [
    {
     "data": {
      "image/png": "[encoded data removed]",
      "text/plain": [
       "<matplotlib.figure.Figure at 0xe62b530>"
      ]
     },
     "metadata": {},
     "output_type": "display_data"
    }
   ],
   "source": [
    "idx2cb(us).plot();"
   ]
  },
  {
   "cell_type": "markdown",
   "metadata": {
    "slideshow": {
     "slide_type": "slide"
    }
   },
   "source": [
    "## Conclusion ##"
   ]
  },
  {
   "cell_type": "markdown",
   "metadata": {
    "slideshow": {
     "slide_type": "fragment"
    }
   },
   "source": [
    "![Axes Perspective](media/axes_perspective.png)"
   ]
  },
  {
   "cell_type": "markdown",
   "metadata": {
    "nbpresent": {
     "id": "ec05820d-eaeb-44eb-87b7-bc42df982432"
    },
    "slideshow": {
     "slide_type": "fragment"
    }
   },
   "source": [
    "### Some times changing what's on the axes can lead to new insights! ###"
   ]
  },
  {
   "cell_type": "markdown",
   "metadata": {
    "slideshow": {
     "slide_type": "slide"
    }
   },
   "source": [
    "# Questions? #\n",
    "\n",
    "![Argon Website](media/argon_website.png)\n",
    "\n",
    "## Thank you! ##"
   ]
  },
  {
   "cell_type": "code",
   "execution_count": 24,
   "metadata": {
    "collapsed": false,
    "slideshow": {
     "slide_type": "slide"
    }
   },
   "outputs": [
    {
     "data": {
      "text/html": [
       "<video controls>\n",
       "  <source src=\"media/I_ve_got_bills.mp4\" type=\"video/mp4\">\n",
       "</video>"
      ],
      "text/plain": [
       "<IPython.core.display.HTML object>"
      ]
     },
     "metadata": {},
     "output_type": "display_data"
    }
   ],
   "source": [
    "%%HTML\n",
    "<video controls>\n",
    "  <source src=\"media/I_ve_got_bills.mp4\" type=\"video/mp4\">\n",
    "</video>"
   ]
  }
 ],
 "metadata": {
  "anaconda-cloud": {},
  "celltoolbar": "Slideshow",
  "kernelspec": {
   "display_name": "Python [conda env:py35]",
   "language": "python",
   "name": "conda-env-py35-py"
  },
  "language_info": {
   "codemirror_mode": {
    "name": "ipython",
    "version": 3
   },
   "file_extension": ".py",
   "mimetype": "text/x-python",
   "name": "python",
   "nbconvert_exporter": "python",
   "pygments_lexer": "ipython3",
   "version": "3.5.2"
  },
  "nbpresent": {
   "slides": {
    "a927c589-f621-49d9-bb69-52e28869b139": {
     "id": "a927c589-f621-49d9-bb69-52e28869b139",
     "prev": "b8cf423a-28cf-4586-91f9-2f545421f22f",
     "regions": {
      "0774bea8-0139-44e0-9f53-f41eb5216fce": {
       "attrs": {
        "height": 0.4,
        "width": 0.8,
        "x": 0.1,
        "y": 0.5
       },
       "content": {
        "cell": "a9fe7417-8be7-405e-9f88-80fc50697b19",
        "part": "whole"
       },
       "id": "0774bea8-0139-44e0-9f53-f41eb5216fce"
      },
      "087036cf-c397-415c-ab2a-7f5307e6a581": {
       "attrs": {
        "height": 0.4,
        "width": 0.8,
        "x": 0.1,
        "y": 0.5
       },
       "content": {
        "cell": "0d1e0718-ce24-497d-9161-62fc4650d802",
        "part": "whole"
       },
       "id": "087036cf-c397-415c-ab2a-7f5307e6a581"
      },
      "1567d864-44f2-4d98-a32e-d679a280685d": {
       "attrs": {
        "height": 0.4,
        "width": 0.8,
        "x": 0.1,
        "y": 0.5
       },
       "content": {
        "cell": "e3e31e16-ae8e-4a55-835d-5f6ed008a29d",
        "part": "whole"
       },
       "id": "1567d864-44f2-4d98-a32e-d679a280685d"
      },
      "16efd232-9b38-4d72-b514-5c04277f14c5": {
       "attrs": {
        "height": 0.4,
        "width": 0.8,
        "x": 0.1,
        "y": 0.5
       },
       "content": {
        "cell": "cfeb9dba-5665-47e8-a46b-4a32a635206b",
        "part": "whole"
       },
       "id": "16efd232-9b38-4d72-b514-5c04277f14c5"
      },
      "2944becd-2eb8-40bb-aa69-29f4fec032bf": {
       "attrs": {
        "height": 0.4,
        "width": 0.8,
        "x": 0.1,
        "y": 0.5
       },
       "content": {
        "cell": "7b184733-42d8-460d-b00f-67e4dceed024",
        "part": "whole"
       },
       "id": "2944becd-2eb8-40bb-aa69-29f4fec032bf"
      },
      "3aa8070c-49c4-4b0f-9708-305116d167bd": {
       "attrs": {
        "height": 0.4,
        "width": 0.8,
        "x": 0.1,
        "y": 0.5
       },
       "content": {
        "cell": "25fce24b-fe7d-4e1a-89db-f463fabe975f",
        "part": "whole"
       },
       "id": "3aa8070c-49c4-4b0f-9708-305116d167bd"
      },
      "3b2d4e3c-af01-471d-8b0f-f90897708c20": {
       "attrs": {
        "height": 0.4,
        "width": 0.8,
        "x": 0.1,
        "y": 0.5
       },
       "content": {
        "cell": "6a75046c-e083-4557-8aba-982faf61eac7",
        "part": "whole"
       },
       "id": "3b2d4e3c-af01-471d-8b0f-f90897708c20"
      },
      "4183017d-4834-4a16-96e4-20c6d8549b7e": {
       "attrs": {
        "height": 0.8,
        "width": 0.8,
        "x": 0.1,
        "y": 0.1
       },
       "content": {
        "cell": "0956146a-9dd6-4499-bd97-abcb0d78acca",
        "part": "whole"
       },
       "id": "4183017d-4834-4a16-96e4-20c6d8549b7e"
      },
      "4fcd1aa0-3e1f-49d6-afc7-a0961a313e62": {
       "attrs": {
        "height": 0.4,
        "width": 0.8,
        "x": 0.1,
        "y": 0.5
       },
       "content": {
        "cell": "3c76842d-2867-4c08-b337-b46eb5fee54d",
        "part": "whole"
       },
       "id": "4fcd1aa0-3e1f-49d6-afc7-a0961a313e62"
      },
      "50c68a64-152b-4e49-aa9e-0230e1147f61": {
       "attrs": {
        "height": 0.4,
        "width": 0.8,
        "x": 0.1,
        "y": 0.5
       },
       "content": {
        "cell": "264cd03a-fa4e-428c-87ac-3e0cf5a5d543",
        "part": "whole"
       },
       "id": "50c68a64-152b-4e49-aa9e-0230e1147f61"
      },
      "537cc3d8-6b8e-4e08-aabe-b171ed69f594": {
       "attrs": {
        "height": 0.4,
        "width": 0.8,
        "x": 0.1,
        "y": 0.5
       },
       "content": {
        "cell": "f222b18b-8fae-4f22-9595-4f40cc02182e",
        "part": "whole"
       },
       "id": "537cc3d8-6b8e-4e08-aabe-b171ed69f594"
      },
      "5f0ce506-48d8-477e-b22d-b76a47abe61b": {
       "attrs": {
        "height": 0.4,
        "width": 0.8,
        "x": 0.1,
        "y": 0.5
       },
       "content": {
        "cell": "8fd17029-3cad-49da-a2dd-d2fff16965eb",
        "part": "whole"
       },
       "id": "5f0ce506-48d8-477e-b22d-b76a47abe61b"
      },
      "6795350e-abbd-455d-97fb-d394313d0dba": {
       "attrs": {
        "height": 0.4,
        "width": 0.8,
        "x": 0.1,
        "y": 0.5
       },
       "content": {
        "cell": "c5064fa9-aaff-4f9e-9f25-555660ab3068",
        "part": "whole"
       },
       "id": "6795350e-abbd-455d-97fb-d394313d0dba"
      },
      "6f7a6d98-47da-4936-bb1f-e3e6975fb539": {
       "attrs": {
        "height": 0.4,
        "width": 0.8,
        "x": 0.1,
        "y": 0.5
       },
       "content": {
        "cell": "2d63a294-2df1-47b9-8099-db3552899d61",
        "part": "whole"
       },
       "id": "6f7a6d98-47da-4936-bb1f-e3e6975fb539"
      },
      "78cfcde2-1c02-4816-b1f7-ca52280de427": {
       "attrs": {
        "height": 0.4,
        "width": 0.8,
        "x": 0.1,
        "y": 0.5
       },
       "content": {
        "cell": "958fe96b-1847-479b-b9e1-35d88262c43d",
        "part": "whole"
       },
       "id": "78cfcde2-1c02-4816-b1f7-ca52280de427"
      },
      "866e2467-4f4e-419e-8862-208866b47db2": {
       "attrs": {
        "height": 0.4,
        "width": 0.8,
        "x": 0.1,
        "y": 0.5
       },
       "content": {
        "cell": "9b0bfca6-26ff-4cb9-a95d-442f6e70d59f",
        "part": "whole"
       },
       "id": "866e2467-4f4e-419e-8862-208866b47db2"
      },
      "939cf15f-0a65-41a7-a924-5429dd5ca06f": {
       "attrs": {
        "height": 0.4,
        "width": 0.8,
        "x": 0.1,
        "y": 0.5
       },
       "content": {
        "cell": "55609a83-1795-48de-81f7-ddce39343375",
        "part": "whole"
       },
       "id": "939cf15f-0a65-41a7-a924-5429dd5ca06f"
      },
      "9cc957e1-39bd-4503-8b38-9abbad2bb760": {
       "attrs": {
        "height": 0.4,
        "width": 0.8,
        "x": 0.1,
        "y": 0.5
       },
       "content": {
        "cell": "1c44097c-df8c-48cb-a0af-4c1a0a590ff4",
        "part": "whole"
       },
       "id": "9cc957e1-39bd-4503-8b38-9abbad2bb760"
      },
      "a2ae5400-7158-4073-b203-ab3aeb2fed29": {
       "attrs": {
        "height": 0.4,
        "width": 0.8,
        "x": 0.1,
        "y": 0.5
       },
       "content": {
        "cell": "40ab6a8c-01c5-48e7-bf37-3ff7b6c1e9ce",
        "part": "whole"
       },
       "id": "a2ae5400-7158-4073-b203-ab3aeb2fed29"
      },
      "a5e9aa9d-6b61-4c4f-8df6-4ba84d89d365": {
       "attrs": {
        "height": 0.4,
        "width": 0.8,
        "x": 0.1,
        "y": 0.5
       },
       "content": {
        "cell": "b1337748-0be3-4a23-8742-143f552d994c",
        "part": "whole"
       },
       "id": "a5e9aa9d-6b61-4c4f-8df6-4ba84d89d365"
      },
      "a9204ec1-12e1-45ed-be9d-35a16666455e": {
       "attrs": {
        "height": 0.4,
        "width": 0.8,
        "x": 0.1,
        "y": 0.5
       },
       "content": {
        "cell": "81f45f7e-7209-4aeb-9b5d-836c74b0aacd",
        "part": "whole"
       },
       "id": "a9204ec1-12e1-45ed-be9d-35a16666455e"
      },
      "b1d9f62a-1894-4386-b29d-e5c5ea8d49af": {
       "attrs": {
        "height": 0.4,
        "width": 0.8,
        "x": 0.1,
        "y": 0.5
       },
       "content": {
        "cell": "b916e0f0-8265-4c9a-95b8-08a2c99ed8ac",
        "part": "whole"
       },
       "id": "b1d9f62a-1894-4386-b29d-e5c5ea8d49af"
      },
      "c4b64d79-b973-4adb-baf0-d58a1b00f6d7": {
       "attrs": {
        "height": 0.4,
        "width": 0.8,
        "x": 0.1,
        "y": 0.5
       },
       "content": {
        "cell": "ec05820d-eaeb-44eb-87b7-bc42df982432",
        "part": "whole"
       },
       "id": "c4b64d79-b973-4adb-baf0-d58a1b00f6d7"
      },
      "d6a36d53-4189-4756-bfe8-0ae3691ffa40": {
       "attrs": {
        "height": 0.4,
        "width": 0.8,
        "x": 0.1,
        "y": 0.5
       },
       "content": {
        "cell": "afa77777-6100-46bb-8fcc-9567cdd98d2f",
        "part": "whole"
       },
       "id": "d6a36d53-4189-4756-bfe8-0ae3691ffa40"
      },
      "dad41b57-1eb2-4e8c-a888-0768c109247a": {
       "attrs": {
        "height": 0.4,
        "width": 0.8,
        "x": 0.1,
        "y": 0.5
       },
       "content": {
        "cell": "75bbf2ae-34d6-4ac0-a542-8747f7ee92a9",
        "part": "whole"
       },
       "id": "dad41b57-1eb2-4e8c-a888-0768c109247a"
      },
      "dfc727c2-be37-4ce2-b573-45e55c9ea7c6": {
       "attrs": {
        "height": 0.4,
        "width": 0.8,
        "x": 0.1,
        "y": 0.5
       },
       "content": {
        "cell": "d6f5b57a-c638-4c48-81c7-4d72c3ebc8bc",
        "part": "whole"
       },
       "id": "dfc727c2-be37-4ce2-b573-45e55c9ea7c6"
      },
      "f2f5edab-e624-4af3-a140-92939484cf0d": {
       "attrs": {
        "height": 0.4,
        "width": 0.8,
        "x": 0.1,
        "y": 0.5
       },
       "id": "f2f5edab-e624-4af3-a140-92939484cf0d"
      },
      "f50a4697-fb99-44d8-acb6-907c4e043620": {
       "attrs": {
        "height": 0.4,
        "width": 0.8,
        "x": 0.1,
        "y": 0.5
       },
       "content": {
        "cell": "fdd89a1a-95d2-4350-8f3d-5386f46f9958",
        "part": "whole"
       },
       "id": "f50a4697-fb99-44d8-acb6-907c4e043620"
      },
      "fa3bb6f0-ea96-46da-9244-84626bfa4975": {
       "attrs": {
        "height": 0.4,
        "width": 0.8,
        "x": 0.1,
        "y": 0.5
       },
       "content": {
        "cell": "a969d294-a539-4fd4-aa19-7704005f9738",
        "part": "whole"
       },
       "id": "fa3bb6f0-ea96-46da-9244-84626bfa4975"
      }
     }
    },
    "b8cf423a-28cf-4586-91f9-2f545421f22f": {
     "id": "b8cf423a-28cf-4586-91f9-2f545421f22f",
     "prev": "cb3bab93-0245-4ebd-9e77-74fe504428f1",
     "regions": {
      "d6df2595-ec72-4797-a341-c7b688c029d5": {
       "attrs": {
        "height": 0.8,
        "width": 0.8,
        "x": 0.1,
        "y": 0.1
       },
       "content": {
        "cell": "4a358deb-a8e0-4133-8af2-89d1e4b1058a",
        "part": "whole"
       },
       "id": "d6df2595-ec72-4797-a341-c7b688c029d5"
      }
     }
    },
    "cb3bab93-0245-4ebd-9e77-74fe504428f1": {
     "id": "cb3bab93-0245-4ebd-9e77-74fe504428f1",
     "prev": null,
     "regions": {
      "a80d50a8-01a4-4cd6-b593-83e878f85a27": {
       "attrs": {
        "height": 0.8,
        "width": 0.8,
        "x": 0.1,
        "y": 0.1
       },
       "content": {
        "cell": "55df224a-1c41-45fc-9b52-276d33fee24e",
        "part": "whole"
       },
       "id": "a80d50a8-01a4-4cd6-b593-83e878f85a27"
      }
     }
    }
   },
   "themes": {
    "default": "8f0d3e73-200c-4365-a5c3-b4e099453b03",
    "theme": {}
   }
  }
 },
 "nbformat": 4,
 "nbformat_minor": 1
}
