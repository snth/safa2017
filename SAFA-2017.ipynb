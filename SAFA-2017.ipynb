{
 "cells": [
  {
   "cell_type": "markdown",
   "metadata": {
    "slideshow": {
     "slide_type": "slide"
    }
   },
   "source": [
    "# centiBils: A unit for Investment Performance Management\n",
    "\n",
    "<br><br>\n",
    "## Tobias Brandt ##\n",
    "<img src=\"media/argon_logo.png\" align=left width=400>"
   ]
  },
  {
   "cell_type": "markdown",
   "metadata": {
    "nbpresent": {
     "id": "55df224a-1c41-45fc-9b52-276d33fee24e"
    },
    "slideshow": {
     "slide_type": "subslide"
    }
   },
   "source": [
    "## Abstract\n",
    "\n",
    "Percentage Returns are the de-facto standard for Investment Performance\n",
    "Measurement. Yet they are not very well suited for multi-period performance\n",
    "evaluation. As an illustrative example, does the sequence (-30%, +40%) represent a\n",
    "positive or negative overall return? We review some of the problems with using\n",
    "percentage returns such as the lack of symmetry, lack of additivity and\n",
    "differences between the arithmetic and geometric means. We then introduce a new\n",
    "logarithmic unit modeled on the deciBel, tentatively called a centiBil, which\n",
    "addresses these shortcomings. Finally we conclude by using the centiBil to\n",
    "compare the performance of US Stocks, Bonds and Bills since 1927 and show how\n",
    "their use eases cross-period comparisons."
   ]
  },
  {
   "cell_type": "markdown",
   "metadata": {
    "slideshow": {
     "slide_type": "subslide"
    }
   },
   "source": [
    "## Agenda\n",
    "\n",
    " 1. Problems with (Simple-)Returns\n",
    "      * Returns are not symmetric\n",
    "      * Returns are not (longitudinally) additive\n",
    "      * The mean return doesn't represent the growth rate of the investment\n",
    " 2. Problems with existing logarithmic units\n",
    "      * Neper\n",
    "          * lacks interpretability\n",
    "      * Bels (i.e. deciBels)\n",
    "          * too large for use with investment returns"
   ]
  },
  {
   "cell_type": "markdown",
   "metadata": {
    "nbpresent": {
     "id": "4a358deb-a8e0-4133-8af2-89d1e4b1058a"
    },
    "slideshow": {
     "slide_type": "subslide"
    }
   },
   "source": [
    "## Agenda (contd)\n",
    "\n",
    "3. centiBils\n",
    "      * Definition\n",
    "      * Standard Values\n",
    " 4. Applications\n",
    "      * S&P 500 Returns since 1900\n",
    "      * Comparison of ALSI, ALBI and STEFI returns"
   ]
  },
  {
   "cell_type": "markdown",
   "metadata": {
    "nbpresent": {
     "id": "0956146a-9dd6-4499-bd97-abcb0d78acca"
    },
    "slideshow": {
     "slide_type": "slide"
    }
   },
   "source": [
    "## Problems with Returns"
   ]
  },
  {
   "cell_type": "markdown",
   "metadata": {
    "slideshow": {
     "slide_type": "fragment"
    }
   },
   "source": [
    "### Returns are not symmetric\n",
    "\n",
    "  * You are probably aware that if your investment experiences a **-50%** return, you need a **+100%** just to break even again.\n",
    "  * This lack of symmetry makes it difficult to interpret sequences of returns.\n",
    "  * For example, does the sequence (-30%, +40%) represent an overall positive or negative return?"
   ]
  },
  {
   "cell_type": "code",
   "execution_count": null,
   "metadata": {
    "collapsed": true,
    "nbpresent": {
     "id": "81f45f7e-7209-4aeb-9b5d-836c74b0aacd"
    },
    "scrolled": false,
    "slideshow": {
     "slide_type": "skip"
    }
   },
   "outputs": [],
   "source": [
    "import numpy as np\n",
    "import pandas as pd\n",
    "import matplotlib.pyplot as plt\n",
    "import statsmodels.api as sm\n",
    "import seaborn as sns\n",
    "%matplotlib inline\n",
    "plt.rcParams['figure.figsize'] = (16, 8)"
   ]
  },
  {
   "cell_type": "code",
   "execution_count": null,
   "metadata": {
    "collapsed": false,
    "nbpresent": {
     "id": "b916e0f0-8265-4c9a-95b8-08a2c99ed8ac"
    },
    "scrolled": false,
    "slideshow": {
     "slide_type": "skip"
    }
   },
   "outputs": [],
   "source": [
    "r = (1-30/100)*(1+40/100)-1\n",
    "print(\"r = {r:.2f} = {r:.2%}\".format(r=r))"
   ]
  },
  {
   "cell_type": "markdown",
   "metadata": {
    "nbpresent": {
     "id": "958fe96b-1847-479b-b9e1-35d88262c43d"
    },
    "slideshow": {
     "slide_type": "fragment"
    }
   },
   "source": [
    "$$ r = (1 - \\frac{30}{100})(1 + \\frac{40}{100}) - 1 = -0.02 = -2\\% $$"
   ]
  },
  {
   "cell_type": "markdown",
   "metadata": {
    "nbpresent": {
     "id": "fdd89a1a-95d2-4350-8f3d-5386f46f9958"
    },
    "slideshow": {
     "slide_type": "subslide"
    }
   },
   "source": [
    "### Returns are not (longitudinally) additive\n",
    "\n",
    "  * As seen in the previous example, we have to add returns geometrically."
   ]
  },
  {
   "cell_type": "markdown",
   "metadata": {
    "nbpresent": {
     "id": "2d63a294-2df1-47b9-8099-db3552899d61"
    },
    "slideshow": {
     "slide_type": "fragment"
    }
   },
   "source": [
    "### The mean return doesn't represent the growth rate\n",
    "\n",
    "$$ g = \\mu - \\frac{1}{2}\\sigma^2 $$"
   ]
  },
  {
   "cell_type": "markdown",
   "metadata": {
    "nbpresent": {
     "id": "55609a83-1795-48de-81f7-ddce39343375"
    },
    "slideshow": {
     "slide_type": "subslide"
    }
   },
   "source": [
    "### US Asset Class Returns (since 1927) ###"
   ]
  },
  {
   "cell_type": "code",
   "execution_count": null,
   "metadata": {
    "collapsed": false,
    "nbpresent": {
     "id": "75bbf2ae-34d6-4ac0-a542-8747f7ee92a9"
    },
    "scrolled": false,
    "slideshow": {
     "slide_type": "skip"
    }
   },
   "outputs": [],
   "source": [
    "us_data = pd.read_excel('data/histretSP.xls', sheetname='Returns by year', skiprows=17, skip_footer=10, index_col=0)\n",
    "pd.concat([us_data.head(5), us_data.tail(5)])"
   ]
  },
  {
   "cell_type": "code",
   "execution_count": null,
   "metadata": {
    "collapsed": true,
    "scrolled": false,
    "slideshow": {
     "slide_type": "skip"
    }
   },
   "outputs": [],
   "source": [
    "from IPython.core.display import display, HTML\n",
    "def to_html_perc(df):\n",
    "    return HTML(df.to_html(formatters={c:\"{:,.2%}\".format for c in df.columns}))\n",
    "\n",
    "def calc_metrics(returns):\n",
    "    df = pd.DataFrame(returns.mean(skipna=False).to_frame().T)\n",
    "    df.index = ['Mean']\n",
    "    df.loc['Std Dev.'] = returns.std()\n",
    "    df.loc['CAGR'] = np.expm1(np.log1p(returns).mean(skipna=False))\n",
    "    return df\n",
    "\n",
    "returns = us_data.iloc[:, [0, 2, 1]].copy()\n",
    "us_returns_sample = pd.concat([returns.head(5), returns.tail(5)])"
   ]
  },
  {
   "cell_type": "code",
   "execution_count": null,
   "metadata": {
    "collapsed": false,
    "slideshow": {
     "slide_type": "fragment"
    }
   },
   "outputs": [],
   "source": [
    "to_html_perc(us_returns_sample)"
   ]
  },
  {
   "cell_type": "code",
   "execution_count": null,
   "metadata": {
    "collapsed": false,
    "nbpresent": {
     "id": "d6f5b57a-c638-4c48-81c7-4d72c3ebc8bc"
    },
    "scrolled": false,
    "slideshow": {
     "slide_type": "subslide"
    }
   },
   "outputs": [],
   "source": [
    "to_html_perc(calc_metrics(returns))"
   ]
  },
  {
   "cell_type": "code",
   "execution_count": null,
   "metadata": {
    "collapsed": true,
    "scrolled": false,
    "slideshow": {
     "slide_type": "skip"
    }
   },
   "outputs": [],
   "source": [
    "sp500 = returns['S&P 500']\n",
    "tbill = returns['3-month T.Bill']\n",
    "returns['S&P 2X'] = 1*(sp500-sp500.mean())+sp500"
   ]
  },
  {
   "cell_type": "code",
   "execution_count": null,
   "metadata": {
    "collapsed": false,
    "nbpresent": {
     "id": "6a75046c-e083-4557-8aba-982faf61eac7"
    },
    "scrolled": false,
    "slideshow": {
     "slide_type": "fragment"
    }
   },
   "outputs": [],
   "source": [
    "to_html_perc(calc_metrics(returns))"
   ]
  },
  {
   "cell_type": "code",
   "execution_count": null,
   "metadata": {
    "collapsed": false,
    "nbpresent": {
     "id": "9b0bfca6-26ff-4cb9-a95d-442f6e70d59f"
    },
    "scrolled": false,
    "slideshow": {
     "slide_type": "skip"
    }
   },
   "outputs": [],
   "source": [
    "us = us_data[['Stocks', 'T.Bonds', 'T.Bills']].copy()\n",
    "us.loc[1927] = 100\n",
    "us.sort_index(inplace=True)\n",
    "us = us/us.iloc[0]\n",
    "#us['S&P 2X'] = np.exp(np.cumsum(np.log1p(returns['S&P 2X'])))\n",
    "pd.concat([us.head(3), us.tail(3)])"
   ]
  },
  {
   "cell_type": "markdown",
   "metadata": {
    "slideshow": {
     "slide_type": "slide"
    }
   },
   "source": [
    "## Plots ## "
   ]
  },
  {
   "cell_type": "code",
   "execution_count": null,
   "metadata": {
    "collapsed": false,
    "nbpresent": {
     "id": "cfeb9dba-5665-47e8-a46b-4a32a635206b"
    },
    "scrolled": false,
    "slideshow": {
     "slide_type": "fragment"
    }
   },
   "outputs": [],
   "source": [
    "us.plot();"
   ]
  },
  {
   "cell_type": "code",
   "execution_count": null,
   "metadata": {
    "collapsed": false,
    "nbpresent": {
     "id": "8fd17029-3cad-49da-a2dd-d2fff16965eb"
    },
    "scrolled": false,
    "slideshow": {
     "slide_type": "subslide"
    }
   },
   "outputs": [],
   "source": [
    "us.plot(logy=True);"
   ]
  },
  {
   "cell_type": "code",
   "execution_count": null,
   "metadata": {
    "collapsed": false,
    "nbpresent": {
     "id": "a969d294-a539-4fd4-aa19-7704005f9738"
    },
    "scrolled": false,
    "slideshow": {
     "slide_type": "subslide"
    }
   },
   "outputs": [],
   "source": [
    "np.log(us).plot();"
   ]
  },
  {
   "cell_type": "markdown",
   "metadata": {
    "slideshow": {
     "slide_type": "subslide"
    }
   },
   "source": [
    "## Neper ##"
   ]
  },
  {
   "cell_type": "markdown",
   "metadata": {
    "slideshow": {
     "slide_type": "fragment"
    }
   },
   "source": [
    "The **neper** (unit symbol **Np**) is a logarithmic unit for ratios of measurements of physical field and power quantities, such as gain and loss of electronic signals. The unit's name is derived from the name of John Napier, the inventor of logarithms. As is the case for the decibel and bel, the neper is a unit of the International System of Quantities (ISQ), but not part of the International System of Units (SI), but it is accepted for use alongside the SI.[1]"
   ]
  },
  {
   "cell_type": "markdown",
   "metadata": {
    "slideshow": {
     "slide_type": "fragment"
    }
   },
   "source": [
    "Like the decibel, the neper is a unit in a logarithmic scale. While the bel uses the decadic (base-10) logarithm to compute ratios, the neper uses the natural logarithm, based on Euler's number (e ≈ 2.71828). The value of a ratio in nepers is given by\n",
    "\n",
    "$$ L_{\\rm {Np}}=\\ln {\\frac {x_{1}}{x_{2}}}=\\ln x_{1}-\\ln x_{2}.$$\n",
    "\n",
    "where $ x_{1} $ and $ x_{2} $ are the values of interest (amplitudes), and $\\ln$ is the natural logarithm."
   ]
  },
  {
   "cell_type": "markdown",
   "metadata": {
    "slideshow": {
     "slide_type": "subslide"
    }
   },
   "source": [
    "## Decibels ##"
   ]
  },
  {
   "cell_type": "markdown",
   "metadata": {
    "slideshow": {
     "slide_type": "fragment"
    }
   },
   "source": [
    "When referring to measurements of power quantities, a ratio can be expressed as a level in **decibels** by evaluating ten times the base-10 logarithm of the ratio of the measured quantity to reference value. Thus, the ratio of $P$ (measured power) to $P_{0}$ (reference power) is represented by $L_{P}$, that ratio expressed in decibels,[17] which is calculated using the formula:[2]\n",
    "\n",
    "$$ L_{P}=10\\log _{10}\\!\\left({\\frac {P}{P_{0}}}\\right)\\!~\\mathrm {dB} $$\n",
    "\n",
    "The base-10 logarithm of the ratio of the two power levels is the number of **bels**. The number of decibels is ten times the number of bels (equivalently, a decibel is one-tenth of a bel)."
   ]
  },
  {
   "cell_type": "markdown",
   "metadata": {
    "nbpresent": {
     "id": "b1337748-0be3-4a23-8742-143f552d994c"
    },
    "slideshow": {
     "slide_type": "slide"
    }
   },
   "source": [
    "## centiBils ##"
   ]
  },
  {
   "cell_type": "markdown",
   "metadata": {
    "slideshow": {
     "slide_type": "fragment"
    }
   },
   "source": [
    "When referring to measurements of **asset prices**, a ratio can be expressed as a level in **centibils** by evaluating **one hundred times** the **base-2 logarithm** of the ratio of the **measured price** to **reference price**. Thus, the ratio of $S$ (measured price) to $S_{0}$ (reference price) is represented by $L_{S}$, that ratio expressed in centibils, which is calculated using the formula:\n",
    "\n",
    "$$ L_{S}=100\\log _{2}\\!\\left({\\frac {S}{S_{0}}}\\right)\\!~\\mathrm {cB} $$\n",
    "\n",
    "The base-2 logarithm of the ratio of the two power levels is the number of **bils**. The number of centibils is hundred times the number of bils (equivalently, a centibil is one-hundreth of a bil)."
   ]
  },
  {
   "cell_type": "markdown",
   "metadata": {
    "nbpresent": {
     "id": "a9fe7417-8be7-405e-9f88-80fc50697b19"
    },
    "slideshow": {
     "slide_type": "fragment"
    }
   },
   "source": [
    "### Definition\n",
    "\n",
    "$$ 1 Bil = \\ln_2 2 = \\ln_2 (1+1) = \\ln (1+100\\%) / \\ln 2$$\n",
    "\n",
    "$$ r \\implies 100 \\ln_2(1+r) \\textrm{ centiBils} = \\frac{100}{\\ln 2} \\ln(1+r) \\textrm{ cB} $$"
   ]
  },
  {
   "cell_type": "code",
   "execution_count": null,
   "metadata": {
    "collapsed": true,
    "nbpresent": {
     "id": "40ab6a8c-01c5-48e7-bf37-3ff7b6c1e9ce"
    },
    "scrolled": false,
    "slideshow": {
     "slide_type": "skip"
    }
   },
   "outputs": [],
   "source": [
    "def ret2cb(ret):\n",
    "    return 100/np.log(2)*np.log1p(ret)\n",
    "\n",
    "def cb2ret(cb):\n",
    "    return np.expm1(cb/100*np.log(2))\n",
    "\n",
    "def idx2cb(idx):\n",
    "    return 100/np.log(2)*np.log(idx)\n",
    "\n",
    "def cb2idx(cb):\n",
    "    return np.exp((c/100*np.log(2)))"
   ]
  },
  {
   "cell_type": "markdown",
   "metadata": {
    "nbpresent": {
     "id": "c5064fa9-aaff-4f9e-9f25-555660ab3068"
    },
    "slideshow": {
     "slide_type": "subslide"
    }
   },
   "source": [
    "### Standard Percentage Returns ###"
   ]
  },
  {
   "cell_type": "code",
   "execution_count": null,
   "metadata": {
    "collapsed": false,
    "scrolled": false,
    "slideshow": {
     "slide_type": "skip"
    }
   },
   "outputs": [],
   "source": [
    "vals = np.array([-1, -0.50, -0.25, -0.20, -0.10, -0.01, -0.0001])\n",
    "std_rets = np.r_[vals, 0, -vals[::-1]]\n",
    "standard_returns = HTML(pd.DataFrame({'Percentage Return':std_rets, 'centiBils Return':ret2cb(std_rets)})\n",
    "                        .to_html(formatters={'Percentage Return':\"{:,.2%}\".format, 'centiBils Return':\"{:,.2f} cB\".format})\n",
    "                        )"
   ]
  },
  {
   "cell_type": "code",
   "execution_count": null,
   "metadata": {
    "collapsed": false,
    "nbpresent": {
     "id": "264cd03a-fa4e-428c-87ac-3e0cf5a5d543"
    },
    "scrolled": false,
    "slideshow": {
     "slide_type": "fragment"
    }
   },
   "outputs": [],
   "source": [
    "standard_returns"
   ]
  },
  {
   "cell_type": "markdown",
   "metadata": {
    "slideshow": {
     "slide_type": "subslide"
    }
   },
   "source": [
    "### Standard centiBil Values ###"
   ]
  },
  {
   "cell_type": "code",
   "execution_count": null,
   "metadata": {
    "collapsed": false,
    "scrolled": false,
    "slideshow": {
     "slide_type": "skip"
    }
   },
   "outputs": [],
   "source": [
    "std_cbs = 100*np.r_[vals, 0, -vals[::-1]]\n",
    "standard_centibils = HTML(pd.DataFrame({'centiBils Return':std_cbs, 'Percentage Return':cb2ret(std_cbs)})\n",
    "                        .to_html(formatters={'Percentage Return':\"{:,.2%}\".format, 'centiBils Return':\"{:,.2f} cB\".format})\n",
    "                        )"
   ]
  },
  {
   "cell_type": "code",
   "execution_count": null,
   "metadata": {
    "collapsed": false,
    "nbpresent": {
     "id": "7b184733-42d8-460d-b00f-67e4dceed024"
    },
    "scrolled": false,
    "slideshow": {
     "slide_type": "fragment"
    }
   },
   "outputs": [],
   "source": [
    "standard_centibils"
   ]
  },
  {
   "cell_type": "markdown",
   "metadata": {
    "nbpresent": {
     "id": "f222b18b-8fae-4f22-9595-4f40cc02182e"
    },
    "slideshow": {
     "slide_type": "slide"
    }
   },
   "source": [
    "## Applications"
   ]
  },
  {
   "cell_type": "code",
   "execution_count": null,
   "metadata": {
    "collapsed": false,
    "nbpresent": {
     "id": "afa77777-6100-46bb-8fcc-9567cdd98d2f"
    },
    "scrolled": false,
    "slideshow": {
     "slide_type": "fragment"
    }
   },
   "outputs": [],
   "source": [
    "idx2cb(us).plot();"
   ]
  },
  {
   "cell_type": "markdown",
   "metadata": {
    "slideshow": {
     "slide_type": "slide"
    }
   },
   "source": [
    "## Conclusion ##\n",
    "\n",
    "![Axes Perspective](media/axes_perspective.png)"
   ]
  },
  {
   "cell_type": "markdown",
   "metadata": {
    "nbpresent": {
     "id": "ec05820d-eaeb-44eb-87b7-bc42df982432"
    },
    "slideshow": {
     "slide_type": "fragment"
    }
   },
   "source": [
    "### Some times changing what's on the axes can give one a new perspective! ###"
   ]
  },
  {
   "cell_type": "markdown",
   "metadata": {
    "slideshow": {
     "slide_type": "slide"
    }
   },
   "source": [
    "# Questions? #\n",
    "\n",
    "![Argon Website](media/argon_website.png)\n",
    "\n",
    "## Thank you! ##"
   ]
  }
 ],
 "metadata": {
  "anaconda-cloud": {},
  "celltoolbar": "Slideshow",
  "kernelspec": {
   "display_name": "Python [conda env:py35]",
   "language": "python",
   "name": "conda-env-py35-py"
  },
  "language_info": {
   "codemirror_mode": {
    "name": "ipython",
    "version": 3
   },
   "file_extension": ".py",
   "mimetype": "text/x-python",
   "name": "python",
   "nbconvert_exporter": "python",
   "pygments_lexer": "ipython3",
   "version": "3.5.2"
  },
  "nbpresent": {
   "slides": {
    "a927c589-f621-49d9-bb69-52e28869b139": {
     "id": "a927c589-f621-49d9-bb69-52e28869b139",
     "prev": "b8cf423a-28cf-4586-91f9-2f545421f22f",
     "regions": {
      "0774bea8-0139-44e0-9f53-f41eb5216fce": {
       "attrs": {
        "height": 0.4,
        "width": 0.8,
        "x": 0.1,
        "y": 0.5
       },
       "content": {
        "cell": "a9fe7417-8be7-405e-9f88-80fc50697b19",
        "part": "whole"
       },
       "id": "0774bea8-0139-44e0-9f53-f41eb5216fce"
      },
      "087036cf-c397-415c-ab2a-7f5307e6a581": {
       "attrs": {
        "height": 0.4,
        "width": 0.8,
        "x": 0.1,
        "y": 0.5
       },
       "content": {
        "cell": "0d1e0718-ce24-497d-9161-62fc4650d802",
        "part": "whole"
       },
       "id": "087036cf-c397-415c-ab2a-7f5307e6a581"
      },
      "1567d864-44f2-4d98-a32e-d679a280685d": {
       "attrs": {
        "height": 0.4,
        "width": 0.8,
        "x": 0.1,
        "y": 0.5
       },
       "content": {
        "cell": "e3e31e16-ae8e-4a55-835d-5f6ed008a29d",
        "part": "whole"
       },
       "id": "1567d864-44f2-4d98-a32e-d679a280685d"
      },
      "16efd232-9b38-4d72-b514-5c04277f14c5": {
       "attrs": {
        "height": 0.4,
        "width": 0.8,
        "x": 0.1,
        "y": 0.5
       },
       "content": {
        "cell": "cfeb9dba-5665-47e8-a46b-4a32a635206b",
        "part": "whole"
       },
       "id": "16efd232-9b38-4d72-b514-5c04277f14c5"
      },
      "2944becd-2eb8-40bb-aa69-29f4fec032bf": {
       "attrs": {
        "height": 0.4,
        "width": 0.8,
        "x": 0.1,
        "y": 0.5
       },
       "content": {
        "cell": "7b184733-42d8-460d-b00f-67e4dceed024",
        "part": "whole"
       },
       "id": "2944becd-2eb8-40bb-aa69-29f4fec032bf"
      },
      "3aa8070c-49c4-4b0f-9708-305116d167bd": {
       "attrs": {
        "height": 0.4,
        "width": 0.8,
        "x": 0.1,
        "y": 0.5
       },
       "content": {
        "cell": "25fce24b-fe7d-4e1a-89db-f463fabe975f",
        "part": "whole"
       },
       "id": "3aa8070c-49c4-4b0f-9708-305116d167bd"
      },
      "3b2d4e3c-af01-471d-8b0f-f90897708c20": {
       "attrs": {
        "height": 0.4,
        "width": 0.8,
        "x": 0.1,
        "y": 0.5
       },
       "content": {
        "cell": "6a75046c-e083-4557-8aba-982faf61eac7",
        "part": "whole"
       },
       "id": "3b2d4e3c-af01-471d-8b0f-f90897708c20"
      },
      "4183017d-4834-4a16-96e4-20c6d8549b7e": {
       "attrs": {
        "height": 0.8,
        "width": 0.8,
        "x": 0.1,
        "y": 0.1
       },
       "content": {
        "cell": "0956146a-9dd6-4499-bd97-abcb0d78acca",
        "part": "whole"
       },
       "id": "4183017d-4834-4a16-96e4-20c6d8549b7e"
      },
      "4fcd1aa0-3e1f-49d6-afc7-a0961a313e62": {
       "attrs": {
        "height": 0.4,
        "width": 0.8,
        "x": 0.1,
        "y": 0.5
       },
       "content": {
        "cell": "3c76842d-2867-4c08-b337-b46eb5fee54d",
        "part": "whole"
       },
       "id": "4fcd1aa0-3e1f-49d6-afc7-a0961a313e62"
      },
      "50c68a64-152b-4e49-aa9e-0230e1147f61": {
       "attrs": {
        "height": 0.4,
        "width": 0.8,
        "x": 0.1,
        "y": 0.5
       },
       "content": {
        "cell": "264cd03a-fa4e-428c-87ac-3e0cf5a5d543",
        "part": "whole"
       },
       "id": "50c68a64-152b-4e49-aa9e-0230e1147f61"
      },
      "537cc3d8-6b8e-4e08-aabe-b171ed69f594": {
       "attrs": {
        "height": 0.4,
        "width": 0.8,
        "x": 0.1,
        "y": 0.5
       },
       "content": {
        "cell": "f222b18b-8fae-4f22-9595-4f40cc02182e",
        "part": "whole"
       },
       "id": "537cc3d8-6b8e-4e08-aabe-b171ed69f594"
      },
      "5f0ce506-48d8-477e-b22d-b76a47abe61b": {
       "attrs": {
        "height": 0.4,
        "width": 0.8,
        "x": 0.1,
        "y": 0.5
       },
       "content": {
        "cell": "8fd17029-3cad-49da-a2dd-d2fff16965eb",
        "part": "whole"
       },
       "id": "5f0ce506-48d8-477e-b22d-b76a47abe61b"
      },
      "6795350e-abbd-455d-97fb-d394313d0dba": {
       "attrs": {
        "height": 0.4,
        "width": 0.8,
        "x": 0.1,
        "y": 0.5
       },
       "content": {
        "cell": "c5064fa9-aaff-4f9e-9f25-555660ab3068",
        "part": "whole"
       },
       "id": "6795350e-abbd-455d-97fb-d394313d0dba"
      },
      "6f7a6d98-47da-4936-bb1f-e3e6975fb539": {
       "attrs": {
        "height": 0.4,
        "width": 0.8,
        "x": 0.1,
        "y": 0.5
       },
       "content": {
        "cell": "2d63a294-2df1-47b9-8099-db3552899d61",
        "part": "whole"
       },
       "id": "6f7a6d98-47da-4936-bb1f-e3e6975fb539"
      },
      "78cfcde2-1c02-4816-b1f7-ca52280de427": {
       "attrs": {
        "height": 0.4,
        "width": 0.8,
        "x": 0.1,
        "y": 0.5
       },
       "content": {
        "cell": "958fe96b-1847-479b-b9e1-35d88262c43d",
        "part": "whole"
       },
       "id": "78cfcde2-1c02-4816-b1f7-ca52280de427"
      },
      "866e2467-4f4e-419e-8862-208866b47db2": {
       "attrs": {
        "height": 0.4,
        "width": 0.8,
        "x": 0.1,
        "y": 0.5
       },
       "content": {
        "cell": "9b0bfca6-26ff-4cb9-a95d-442f6e70d59f",
        "part": "whole"
       },
       "id": "866e2467-4f4e-419e-8862-208866b47db2"
      },
      "939cf15f-0a65-41a7-a924-5429dd5ca06f": {
       "attrs": {
        "height": 0.4,
        "width": 0.8,
        "x": 0.1,
        "y": 0.5
       },
       "content": {
        "cell": "55609a83-1795-48de-81f7-ddce39343375",
        "part": "whole"
       },
       "id": "939cf15f-0a65-41a7-a924-5429dd5ca06f"
      },
      "9cc957e1-39bd-4503-8b38-9abbad2bb760": {
       "attrs": {
        "height": 0.4,
        "width": 0.8,
        "x": 0.1,
        "y": 0.5
       },
       "content": {
        "cell": "1c44097c-df8c-48cb-a0af-4c1a0a590ff4",
        "part": "whole"
       },
       "id": "9cc957e1-39bd-4503-8b38-9abbad2bb760"
      },
      "a2ae5400-7158-4073-b203-ab3aeb2fed29": {
       "attrs": {
        "height": 0.4,
        "width": 0.8,
        "x": 0.1,
        "y": 0.5
       },
       "content": {
        "cell": "40ab6a8c-01c5-48e7-bf37-3ff7b6c1e9ce",
        "part": "whole"
       },
       "id": "a2ae5400-7158-4073-b203-ab3aeb2fed29"
      },
      "a5e9aa9d-6b61-4c4f-8df6-4ba84d89d365": {
       "attrs": {
        "height": 0.4,
        "width": 0.8,
        "x": 0.1,
        "y": 0.5
       },
       "content": {
        "cell": "b1337748-0be3-4a23-8742-143f552d994c",
        "part": "whole"
       },
       "id": "a5e9aa9d-6b61-4c4f-8df6-4ba84d89d365"
      },
      "a9204ec1-12e1-45ed-be9d-35a16666455e": {
       "attrs": {
        "height": 0.4,
        "width": 0.8,
        "x": 0.1,
        "y": 0.5
       },
       "content": {
        "cell": "81f45f7e-7209-4aeb-9b5d-836c74b0aacd",
        "part": "whole"
       },
       "id": "a9204ec1-12e1-45ed-be9d-35a16666455e"
      },
      "b1d9f62a-1894-4386-b29d-e5c5ea8d49af": {
       "attrs": {
        "height": 0.4,
        "width": 0.8,
        "x": 0.1,
        "y": 0.5
       },
       "content": {
        "cell": "b916e0f0-8265-4c9a-95b8-08a2c99ed8ac",
        "part": "whole"
       },
       "id": "b1d9f62a-1894-4386-b29d-e5c5ea8d49af"
      },
      "c4b64d79-b973-4adb-baf0-d58a1b00f6d7": {
       "attrs": {
        "height": 0.4,
        "width": 0.8,
        "x": 0.1,
        "y": 0.5
       },
       "content": {
        "cell": "ec05820d-eaeb-44eb-87b7-bc42df982432",
        "part": "whole"
       },
       "id": "c4b64d79-b973-4adb-baf0-d58a1b00f6d7"
      },
      "d6a36d53-4189-4756-bfe8-0ae3691ffa40": {
       "attrs": {
        "height": 0.4,
        "width": 0.8,
        "x": 0.1,
        "y": 0.5
       },
       "content": {
        "cell": "afa77777-6100-46bb-8fcc-9567cdd98d2f",
        "part": "whole"
       },
       "id": "d6a36d53-4189-4756-bfe8-0ae3691ffa40"
      },
      "dad41b57-1eb2-4e8c-a888-0768c109247a": {
       "attrs": {
        "height": 0.4,
        "width": 0.8,
        "x": 0.1,
        "y": 0.5
       },
       "content": {
        "cell": "75bbf2ae-34d6-4ac0-a542-8747f7ee92a9",
        "part": "whole"
       },
       "id": "dad41b57-1eb2-4e8c-a888-0768c109247a"
      },
      "dfc727c2-be37-4ce2-b573-45e55c9ea7c6": {
       "attrs": {
        "height": 0.4,
        "width": 0.8,
        "x": 0.1,
        "y": 0.5
       },
       "content": {
        "cell": "d6f5b57a-c638-4c48-81c7-4d72c3ebc8bc",
        "part": "whole"
       },
       "id": "dfc727c2-be37-4ce2-b573-45e55c9ea7c6"
      },
      "f2f5edab-e624-4af3-a140-92939484cf0d": {
       "attrs": {
        "height": 0.4,
        "width": 0.8,
        "x": 0.1,
        "y": 0.5
       },
       "id": "f2f5edab-e624-4af3-a140-92939484cf0d"
      },
      "f50a4697-fb99-44d8-acb6-907c4e043620": {
       "attrs": {
        "height": 0.4,
        "width": 0.8,
        "x": 0.1,
        "y": 0.5
       },
       "content": {
        "cell": "fdd89a1a-95d2-4350-8f3d-5386f46f9958",
        "part": "whole"
       },
       "id": "f50a4697-fb99-44d8-acb6-907c4e043620"
      },
      "fa3bb6f0-ea96-46da-9244-84626bfa4975": {
       "attrs": {
        "height": 0.4,
        "width": 0.8,
        "x": 0.1,
        "y": 0.5
       },
       "content": {
        "cell": "a969d294-a539-4fd4-aa19-7704005f9738",
        "part": "whole"
       },
       "id": "fa3bb6f0-ea96-46da-9244-84626bfa4975"
      }
     }
    },
    "b8cf423a-28cf-4586-91f9-2f545421f22f": {
     "id": "b8cf423a-28cf-4586-91f9-2f545421f22f",
     "prev": "cb3bab93-0245-4ebd-9e77-74fe504428f1",
     "regions": {
      "d6df2595-ec72-4797-a341-c7b688c029d5": {
       "attrs": {
        "height": 0.8,
        "width": 0.8,
        "x": 0.1,
        "y": 0.1
       },
       "content": {
        "cell": "4a358deb-a8e0-4133-8af2-89d1e4b1058a",
        "part": "whole"
       },
       "id": "d6df2595-ec72-4797-a341-c7b688c029d5"
      }
     }
    },
    "cb3bab93-0245-4ebd-9e77-74fe504428f1": {
     "id": "cb3bab93-0245-4ebd-9e77-74fe504428f1",
     "prev": null,
     "regions": {
      "a80d50a8-01a4-4cd6-b593-83e878f85a27": {
       "attrs": {
        "height": 0.8,
        "width": 0.8,
        "x": 0.1,
        "y": 0.1
       },
       "content": {
        "cell": "55df224a-1c41-45fc-9b52-276d33fee24e",
        "part": "whole"
       },
       "id": "a80d50a8-01a4-4cd6-b593-83e878f85a27"
      }
     }
    }
   },
   "themes": {
    "default": "8f0d3e73-200c-4365-a5c3-b4e099453b03",
    "theme": {}
   }
  }
 },
 "nbformat": 4,
 "nbformat_minor": 1
}
